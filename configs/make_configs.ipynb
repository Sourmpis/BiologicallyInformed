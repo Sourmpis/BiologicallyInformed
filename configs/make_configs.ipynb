{
 "cells": [
  {
   "cell_type": "code",
   "execution_count": 2,
   "metadata": {},
   "outputs": [],
   "source": [
    "import os\n",
    "os.chdir(\"..\")\n",
    "from infopath.config import load_training_opt\n",
    "import copy\n",
    "import json"
   ]
  },
  {
   "cell_type": "code",
   "execution_count": 3,
   "metadata": {},
   "outputs": [],
   "source": [
    "# parameter_recovery : GoNoGo_nofb, GoNoGo_withfb1, GoNoGo_withfb2 # fb2 is the differential\n",
    "\n",
    "log_path = f\"log_dir/1d74764c4551eef5158418ea67fbe1a5885dfdb1/2024_5_27_9_46_33_teacher_conf\"\n",
    "opt = load_training_opt(log_path)\n",
    "for dataset in [\"GoNoGo_nofb_seed2\", \"GoNoGo_withfb1_seed2\"]: #, \"GoNoGo_withfb2_seed2\"]:\n",
    "    name = dataset.split(\"_\")[-2]\n",
    "    for seed in [0,1, 2,3,4]:\n",
    "        for l1 in [0.02]:\n",
    "            opt_student = copy.deepcopy(opt)\n",
    "            opt_student.batch_size = 400\n",
    "            opt_student.lr = 0.001\n",
    "            opt_student.datapath = f\"datasets/{dataset}\" \n",
    "            opt_student.trial_onset = -0.052\n",
    "            opt_student.block_graph = [] \n",
    "            opt_student.l1_decay_across = l1\n",
    "            opt_student.l1_decay = 0.001\n",
    "            opt_student.seed = seed\n",
    "            opt_student.early_stop = 4000\n",
    "            opt_student.geometric_loss = False\n",
    "            opt_student.feat_svd = False\n",
    "            \n",
    "            opt_student.stats_loss = False\n",
    "            opt_student.loss_cross_corr = False\n",
    "            opt_student.coeff_cross_corr_loss = 1\n",
    "            opt_student.spike_function = \"sigmoid\"\n",
    "\n",
    "            # opt_student.loss_trial_wise = 0\n",
    "            opt_student.restrict_inter_area_inh = True\n",
    "            opt_student.flag_ei = True\n",
    "            string = \"_nospike\"\n",
    "            opt_student.hard_stop = 20000\n",
    "            opt_student = vars(opt_student)\n",
    "            opt_student[\"device\"] = \"cuda\"\n",
    "            opt_student[\"scale_fun\"] = \"log\"\n",
    "            opt_student.pop(\"log_path\")\n",
    "            opt_student.pop(\"wandb_run_id\")\n",
    "            if not os.path.exists(f\"configs/grid_{name}/l1across{int(l1*10000)}_seed{seed}{string}\"):\n",
    "                os.makedirs(f\"configs/grid_{name}/l1across{int(l1*10000)}_seed{seed}{string}\")\n",
    "            json.dump(opt_student, open(f\"configs/grid_{name}/l1across{int(l1*10000)}_seed{seed}{string}/opt.json\", \"w\"))\n",
    "    # opt_student[\"loss_trial_wise\"] = 0\n",
    "    # if not os.path.exists(f\"configs/grid_{name}/l1across{int(l1*10000)}_notm\"):\n",
    "    #     os.makedirs(f\"configs/grid_{name}/l1across{int(l1*10000)}_notm\")\n",
    "    # json.dump(opt_student, open(f\"configs/grid_{name}/l1across{int(l1*10000)}_notm/opt.json\", \"w\"))\n"
   ]
  },
  {
   "cell_type": "code",
   "execution_count": 4,
   "metadata": {},
   "outputs": [],
   "source": [
    "from infopath.config import compare_opt"
   ]
  },
  {
   "cell_type": "code",
   "execution_count": 9,
   "metadata": {},
   "outputs": [
    {
     "name": "stdout",
     "output_type": "stream",
     "text": [
      "input_seed 2 0\n",
      "seed 2 0\n",
      "train_bias True False\n",
      "train_noise_bias True False\n",
      "train_input_weights True False\n"
     ]
    }
   ],
   "source": [
    "compare_opt(\"configs/grid_nofb/l1across0_seed2\", \"log_dir/39a37b302593931ad8f1977c82e16327590f2805/2024_6_24_11_38_12_l1across0_seed0\")"
   ]
  },
  {
   "cell_type": "code",
   "execution_count": 6,
   "metadata": {},
   "outputs": [],
   "source": [
    "import json\n",
    "# copy an existing for sparsity \n",
    "log_paths = [\n",
    "    \"log_dir/39a37b302593931ad8f1977c82e16327590f2805/2024_6_24_11_38_12_l1across0_seed0\",\n",
    "    \"log_dir/39a37b302593931ad8f1977c82e16327590f2805/2024_6_24_11_38_16_l1across0_seed1\",\n",
    "    \"log_dir/39a37b302593931ad8f1977c82e16327590f2805/2024_6_29_16_10_30_l1across0_seed2\",\n",
    "    \"log_dir/39a37b302593931ad8f1977c82e16327590f2805/2024_6_29_16_10_30_l1across0_seed3\",\n",
    "    \"log_dir/39a37b302593931ad8f1977c82e16327590f2805/2024_6_29_16_10_31_l1across0_seed4\",        \n",
    "    ]\n",
    "for log_path in log_paths:\n",
    "    !cp -r {log_path} {log_path}_prune \n",
    "    opt = json.load(open(f\"{log_path}/opt.json\"))\n",
    "    opt[\"log_path\"] += \"_prune\"\n",
    "    opt[\"l1_decay\"] = 0\n",
    "    opt[\"iterative_pruning\"] = True\n",
    "    opt[\"log_every_n_steps\"] = 200\n",
    "    opt[\"early_stop\"] = 8000\n",
    "    json.dump(opt, open(f\"{log_path}_prune/opt.json\", \"w\"))\n",
    "    \n"
   ]
  },
  {
   "cell_type": "code",
   "execution_count": 15,
   "metadata": {},
   "outputs": [
    {
     "name": "stdout",
     "output_type": "stream",
     "text": [
      "datapath datasets/GoNoGo_nofb_seed2 datasets/DataFromVahid_expert\n",
      "batch_size 400 200\n",
      "lr 0.001 0.0005\n",
      "l1_decay 0.001 0.0\n",
      "n_units 500 1500\n",
      "start -0.048 -0.1\n",
      "stop 0.152 1.2\n",
      "trial_onset -0.052 1.0\n",
      "dt 1 2\n",
      "n_rnn_in 1 2\n",
      "input_seed 0 1\n",
      "noise_level_list [0.14, 0.14] [0.14, 0.14, 0.14, 0.14, 0.14, 0.14]\n",
      "tau_list [10, 10] [10, 10, 10, 10, 10, 10]\n",
      "areas ['area1', 'area2'] ['wS1', 'wS2', 'wM1', 'wM2', 'ALM', 'tjM1']\n",
      "stim [4] [0, 1]\n",
      "spike_filter_std 8 12\n",
      "reaction_time_limits None [-1, 0.2]\n",
      "seed 0 1\n",
      "coeff_trial_loss 10 1\n",
      "restrict_inter_area_inh False True\n",
      "train_noise_bias True False\n",
      "early_stop 4000 8000\n",
      "geometric_loss False True\n",
      "motor_areas [] [0, 1, 2, 3, 4, 5]\n",
      "jaw_delay 40 16\n",
      "tau_jaw 50 5\n",
      "trial_types [0, 3] [0, 1, 2, 3]\n",
      "with_behaviour False True\n",
      "jaw_open_loop False True\n",
      "scaling_jaw_in_model False True\n",
      "t_trial_gan True False\n",
      "stim_onsets [0] [0, 1]\n",
      "clip_grad 500 2000\n",
      "time Thu Feb  8 17:59:52 2024 Mon Sep 23 16:07:26 2024\n",
      "num_areas 2 6\n",
      "flag_ei False True\n",
      "train_input_weights False True\n",
      "weights_random_delays True False\n",
      "psth_filter 8 5\n"
     ]
    }
   ],
   "source": [
    "from infopath.config import compare_opt\n",
    "\n",
    "compare_opt(\"log_dir/37383bc21e52b1a427bf2086b0659664c2fc1ccc/2024_10_22_12_40_45_l1across200_seed0_nospike\", \"log_dir/37383bc21e52b1a427bf2086b0659664c2fc1ccc/2024_9_23_16_7_26_l1across200_seed1\")"
   ]
  },
  {
   "cell_type": "code",
   "execution_count": null,
   "metadata": {},
   "outputs": [],
   "source": []
  }
 ],
 "metadata": {
  "kernelspec": {
   "display_name": "Python 3",
   "language": "python",
   "name": "python3"
  },
  "language_info": {
   "codemirror_mode": {
    "name": "ipython",
    "version": 3
   },
   "file_extension": ".py",
   "mimetype": "text/x-python",
   "name": "python",
   "nbconvert_exporter": "python",
   "pygments_lexer": "ipython3",
   "version": "3.10.6"
  }
 },
 "nbformat": 4,
 "nbformat_minor": 2
}
