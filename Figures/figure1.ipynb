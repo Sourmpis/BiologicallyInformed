{
 "cells": [
  {
   "cell_type": "code",
   "execution_count": 1,
   "metadata": {},
   "outputs": [],
   "source": [
    "from infopath.model_loader import load_model_and_optimizer\n",
    "from infopath.config import load_training_opt\n",
    "import torch \n",
    "from infopath.utils.functions import run_with_perturbation\n",
    "import os\n",
    "from infopath.utils.plot_utils import plot_with_size, strip_right_top_axis\n",
    "import numpy as np\n",
    "import random \n",
    "import matplotlib.pyplot as plt \n",
    "%reload_ext autoreload\n",
    "%autoreload 2\n",
    "font = {\"size\": 6, \"family\":\"arial\"}\n",
    "import matplotlib\n",
    "\n",
    "matplotlib.rc(\"font\", **font)\n",
    "matplotlib.rcParams[\"pdf.fonttype\"] = 42\n",
    "DEVICE = \"cuda\" if torch.cuda.is_available() else \"cpu\""
   ]
  },
  {
   "cell_type": "code",
   "execution_count": 2,
   "metadata": {},
   "outputs": [],
   "source": [
    "# set seed for reproducibility\n",
    "seed = 1\n",
    "torch.manual_seed(seed)\n",
    "torch.cuda.manual_seed(seed)\n",
    "np.random.seed(seed)\n",
    "random.seed(seed)\n",
    "torch.backends.cudnn.deterministic=True"
   ]
  },
  {
   "cell_type": "code",
   "execution_count": 3,
   "metadata": {},
   "outputs": [],
   "source": [
    "os.chdir(\"..\")"
   ]
  },
  {
   "cell_type": "code",
   "execution_count": 4,
   "metadata": {},
   "outputs": [],
   "source": [
    "logs = {\n",
    "    \"nofb\": \n",
    "    [\n",
    "        \"AllModels/1d74764c4551eef5158418ea67fbe1a5885dfdb1/2024_5_27_9_46_33_teacher_conf_block/\",\n",
    "        \n",
    "        # Full\n",
    "        \"AllModels/4f811b0a7d426989a9069580e0108cc3e5ac7d60/2024_11_12_14_40_42_nofb_full_0\",\n",
    "        \"AllModels/4f811b0a7d426989a9069580e0108cc3e5ac7d60/2024_11_12_14_40_42_nofb_full_1\",\n",
    "        \"AllModels/4f811b0a7d426989a9069580e0108cc3e5ac7d60/2024_11_12_14_40_45_nofb_full_2\",\n",
    "        \n",
    "        # no sparsity \n",
    "        \"AllModels/4f811b0a7d426989a9069580e0108cc3e5ac7d60/2024_11_12_14_45_46_nofb_nosparsity_0\",\n",
    "        \"AllModels/4f811b0a7d426989a9069580e0108cc3e5ac7d60/2024_11_12_14_40_47_nofb_nosparsity_1\",\n",
    "        \"AllModels/4f811b0a7d426989a9069580e0108cc3e5ac7d60/2024_11_12_14_40_47_nofb_nosparsity_2\",\n",
    "        \n",
    "        # with inh across\n",
    "        \"AllModels/4f811b0a7d426989a9069580e0108cc3e5ac7d60/2024_11_12_14_45_46_nofb_noinhacross_0\",\n",
    "        \"AllModels/4f811b0a7d426989a9069580e0108cc3e5ac7d60/2024_11_12_14_45_46_nofb_noinhacross_1\",\n",
    "        \"AllModels/4f811b0a7d426989a9069580e0108cc3e5ac7d60/2024_11_12_14_45_46_nofb_noinhacross_2\",\n",
    "\n",
    "        # no EI\n",
    "        \"AllModels/4f811b0a7d426989a9069580e0108cc3e5ac7d60/2024_11_12_14_40_45_nofb_noei_0\",\n",
    "        \"AllModels/4f811b0a7d426989a9069580e0108cc3e5ac7d60/2024_11_12_14_40_46_nofb_noei_1\",\n",
    "        \"AllModels/4f811b0a7d426989a9069580e0108cc3e5ac7d60/2024_11_12_14_40_46_nofb_noei_2\",\n",
    "        \n",
    "        # no tm\n",
    "        \"AllModels/4f811b0a7d426989a9069580e0108cc3e5ac7d60/2024_11_12_15_36_6_nofb_notm_0\",\n",
    "        \"AllModels/4f811b0a7d426989a9069580e0108cc3e5ac7d60/2024_11_12_15_5_48_nofb_notm_1\",\n",
    "        \"AllModels/4f811b0a7d426989a9069580e0108cc3e5ac7d60/2024_11_12_15_46_19_nofb_notm_2\",\n",
    "\n",
    "        # no spike\n",
    "        \"AllModels/4f811b0a7d426989a9069580e0108cc3e5ac7d60/2024_11_12_14_40_47_nofb_nospike_0\",\n",
    "        \"AllModels/4f811b0a7d426989a9069580e0108cc3e5ac7d60/2024_11_12_14_40_47_nofb_nospike_1\",\n",
    "        \"AllModels/4f811b0a7d426989a9069580e0108cc3e5ac7d60/2024_11_12_14_45_45_nofb_nospike_2\",\n",
    "\n",
    "        # no spike + reset \n",
    "        \"AllModels/4f811b0a7d426989a9069580e0108cc3e5ac7d60/2024_11_12_14_45_45_nofb_nospikereset_0\",\n",
    "        \"AllModels/4f811b0a7d426989a9069580e0108cc3e5ac7d60/2024_11_12_14_45_45_nofb_nospikereset_1\",\n",
    "        \"AllModels/4f811b0a7d426989a9069580e0108cc3e5ac7d60/2024_11_12_14_45_45_nofb_nospikereset_2\",\n",
    "\n",
    "        # sigmoid\n",
    "        \"AllModels/4f811b0a7d426989a9069580e0108cc3e5ac7d60/2024_11_12_14_45_54_nofb_sigmoid_0\",\n",
    "        \"AllModels/4f811b0a7d426989a9069580e0108cc3e5ac7d60/2024_11_12_14_45_54_nofb_sigmoid_1\",\n",
    "        \"AllModels/4f811b0a7d426989a9069580e0108cc3e5ac7d60/2024_11_12_14_45_54_nofb_sigmoid_2\",\n",
    "        ],\n",
    "    \"withfb1\":\n",
    "    [\n",
    "        \"AllModels/1d74764c4551eef5158418ea67fbe1a5885dfdb1/2024_5_27_9_46_33_teacher_conf/\",\n",
    "\n",
    "        # Full\n",
    "        \"AllModels/4f811b0a7d426989a9069580e0108cc3e5ac7d60/2024_11_12_14_45_44_withfb1_full_0\",\n",
    "        \"AllModels/4f811b0a7d426989a9069580e0108cc3e5ac7d60/2024_11_12_14_45_54_withfb1_full_1\",\n",
    "        \"AllModels/4f811b0a7d426989a9069580e0108cc3e5ac7d60/2024_11_12_14_46_5_withfb1_full_2\",\n",
    "        \n",
    "        # no sparsity \n",
    "        \"AllModels/4f811b0a7d426989a9069580e0108cc3e5ac7d60/2024_11_12_14_49_26_withfb1_nosparsity_0\",\n",
    "        \"AllModels/4f811b0a7d426989a9069580e0108cc3e5ac7d60/2024_11_12_14_49_38_withfb1_nosparsity_1\",\n",
    "        \"AllModels/4f811b0a7d426989a9069580e0108cc3e5ac7d60/2024_11_12_15_2_32_withfb1_nosparsity_2\",\n",
    "\n",
    "        # with inh across\n",
    "        \"AllModels/4f811b0a7d426989a9069580e0108cc3e5ac7d60/2024_11_12_14_46_5_withfb1_noinhacross_0\",\n",
    "        \"AllModels/4f811b0a7d426989a9069580e0108cc3e5ac7d60/2024_11_12_14_46_5_withfb1_noinhacross_1\",\n",
    "        \"AllModels/4f811b0a7d426989a9069580e0108cc3e5ac7d60/2024_11_12_14_49_25_withfb1_noinhacross_2\",\n",
    "        \n",
    "        # no ei\n",
    "        \"AllModels/4f811b0a7d426989a9069580e0108cc3e5ac7d60/2024_11_12_14_46_5_withfb1_noei_0\",\n",
    "        \"AllModels/4f811b0a7d426989a9069580e0108cc3e5ac7d60/2024_11_12_14_44_25_withfb1_noei_1\",\n",
    "        \"AllModels/4f811b0a7d426989a9069580e0108cc3e5ac7d60/2024_11_12_14_49_36_withfb1_noei_2\",\n",
    "\n",
    "        # no tm\n",
    "        \"AllModels/4f811b0a7d426989a9069580e0108cc3e5ac7d60/2024_11_12_15_2_48_withfb1_notm_0\",\n",
    "        \"AllModels/4f811b0a7d426989a9069580e0108cc3e5ac7d60/2024_11_12_15_3_54_withfb1_notm_1\",\n",
    "        \"AllModels/4f811b0a7d426989a9069580e0108cc3e5ac7d60/2024_11_12_15_4_31_withfb1_notm_2\",\n",
    "        \n",
    "        # no spike\n",
    "        \"AllModels/4f811b0a7d426989a9069580e0108cc3e5ac7d60/2024_11_12_15_1_30_withfb1_nospike_0\",\n",
    "        \"AllModels/4f811b0a7d426989a9069580e0108cc3e5ac7d60/2024_11_12_15_7_46_withfb1_nospike_1\",\n",
    "        \"AllModels/4f811b0a7d426989a9069580e0108cc3e5ac7d60/2024_11_12_15_7_46_withfb1_nospike_2\",\n",
    "        \n",
    "        # no spike + reset \n",
    "        \"AllModels/4f811b0a7d426989a9069580e0108cc3e5ac7d60/2024_11_12_15_54_23_withfb1_nospikereset_0\",\n",
    "        \"AllModels/4f811b0a7d426989a9069580e0108cc3e5ac7d60/2024_11_12_15_7_46_withfb1_nospikereset_1\",\n",
    "        \"AllModels/4f811b0a7d426989a9069580e0108cc3e5ac7d60/2024_11_12_15_3_42_withfb1_nospikereset_2\",\n",
    "        \n",
    "        # sigmoid\n",
    "        \"AllModels/4f811b0a7d426989a9069580e0108cc3e5ac7d60/2024_11_12_15_6_2_withfb1_sigmoid_0\",\n",
    "        \"AllModels/4f811b0a7d426989a9069580e0108cc3e5ac7d60/2024_11_12_15_6_30_withfb1_sigmoid_1\",\n",
    "        \"AllModels/4f811b0a7d426989a9069580e0108cc3e5ac7d60/2024_11_12_15_6_40_withfb1_sigmoid_2\",\n",
    "        ]\n",
    "}"
   ]
  },
  {
   "cell_type": "code",
   "execution_count": 5,
   "metadata": {},
   "outputs": [],
   "source": [
    "trials = 100\n",
    "dt = 0.001\n",
    "opt = load_training_opt(logs[\"nofb\"][0])\n",
    "opt.device = DEVICE\n",
    "m_teacher = load_model_and_optimizer(opt, reload=True, last_best=\"best\")[0]\n",
    "\n",
    "opt = load_training_opt(logs[\"nofb\"][1])\n",
    "opt.device = DEVICE\n",
    "model_full = load_model_and_optimizer(opt, reload=True, last_best=\"best\")[0]\n",
    "\n",
    "opt = load_training_opt(logs[\"nofb\"][22])\n",
    "opt.device = DEVICE\n",
    "model_sigma = load_model_and_optimizer(opt, reload=True, last_best=\"best\")[0]\n",
    "\n",
    "\n",
    "area_index = m_teacher.rsnn.area_index\n",
    "excitatory_index = m_teacher.rsnn.excitatory_index"
   ]
  },
  {
   "cell_type": "code",
   "execution_count": 6,
   "metadata": {},
   "outputs": [],
   "source": [
    "@torch.no_grad()\n",
    "def run(model, trials=400, thr=8, seed=0):\n",
    "    stims = torch.ones(trials)*4 \n",
    "    torch.manual_seed(seed)\n",
    "    spikes = model(stims)[0]\n",
    "    filt = model.filter_fun2(model.filter_fun1(spikes))\n",
    "    area0_active = (\n",
    "        filt[:, :, model.rsnn.area_index == 0].mean((2)).max(0)[0] / model.timestep\n",
    "        > thr\n",
    "    )\n",
    "    area1_active = (\n",
    "        filt[:, :, model.rsnn.area_index == 1].mean((2)).max(0)[0] / model.timestep\n",
    "        > thr\n",
    "    )\n",
    "    trial_type = area0_active * 2 + area1_active\n",
    "    return spikes, model.filter_fun1(spikes), trial_type\n",
    "\n",
    "\n",
    "def psth_plot(filt, filt1, trial_type, trial_type1, area_index, ax, area=0, dt=0.001, start=-0.048, stop=0.152, neurons_show=-1):\n",
    "    time = torch.arange(0, filt.shape[0])/filt.shape[0] *(stop-start) + start\n",
    "    neurons_show = area_index == area if neurons_show == -1 else (area_index == area) & (excitatory_index == neurons_show)\n",
    "    ax.axvline(0, color=\"gold\")\n",
    "    ax.plot(time, filt[:, :, neurons_show][:,trial_type<=1].mean((1,2)).cpu()/dt, color=\"orange\", alpha=0.7, linewidth=1)\n",
    "    ax.plot(time, filt[:, :, neurons_show][:,trial_type==3].mean((1,2)).cpu()/dt, color=\"blue\", alpha=0.7, linewidth=1)\n",
    "    ax.axvline(0, color=\"gold\")\n",
    "    ax.plot(time, filt1[:, :, neurons_show][:,trial_type1<=1].mean((1,2)).cpu()/dt, color=\"red\", alpha=0.7, linewidth=1)\n",
    "    ax.plot(time, filt1[:, :, neurons_show][:,trial_type1==3].mean((1,2)).cpu()/dt, color=\"green\", alpha=0.7, linewidth=1)\n",
    "    ax.set_ylim(0, 16)\n",
    "    return ax\n",
    "\n",
    "def spike_plot(spikes, trial_type, area_index, ax, area=0, dt=0.001, start=-0.048, trial=0):\n",
    "    ax.axvline(0, color=\"gold\")\n",
    "    hit_trial = torch.where(trial_type==3)[0][trial]\n",
    "    tms, neurons = torch.where(spikes[:, hit_trial, area_index == area].cpu() > 0)\n",
    "    color = [\"red\" if i else \"black\" for i in (neurons >= 200)]\n",
    "    ax.scatter(tms*dt+start, neurons, marker=\"|\", s=2, c=color, linewidth=0.5)\n",
    "    strip_right_top_axis(ax)    \n",
    "    return ax\n",
    "\n"
   ]
  },
  {
   "cell_type": "code",
   "execution_count": 7,
   "metadata": {},
   "outputs": [
    {
     "name": "stdout",
     "output_type": "stream",
     "text": [
      "tensor(0., device='cuda:0') tensor(0.0700, device='cuda:0') tensor(0.6200, device='cuda:0')\n"
     ]
    }
   ],
   "source": [
    "area = 1\n",
    "exc = 0\n",
    "power = 0\n",
    "torch.manual_seed(0)\n",
    "__cached__, trial_type, _, spikes = run_with_perturbation(m_teacher, trials=trials, area=area, exc=exc, power=power)\n",
    "_, trial_type_full, _, spikes_full = run_with_perturbation(model_full, trials=trials, area=area, exc=exc, power=power)\n",
    "_, trial_type_sigma, _, spikes_sigma = run_with_perturbation(model_sigma, trials=trials, area=area, exc=exc, power=power)\n",
    "filt = m_teacher.filter_fun1(spikes)\n",
    "filt_full = m_teacher.filter_fun1(spikes_full)\n",
    "filt_sigma = m_teacher.filter_fun1(spikes_sigma)\n",
    "\n",
    "area = 1\n",
    "exc = 0\n",
    "power = 1\n",
    "torch.manual_seed(0)\n",
    "_, trial_type_light, _, spikes_light = run_with_perturbation(m_teacher, trials=trials, area=area, exc=exc, power=power)\n",
    "_, trial_type_full_light, _, spikes_full_light = run_with_perturbation(model_full, trials=trials, area=area, exc=exc, power=power)\n",
    "_, trial_type_sigma_light, _, spikes_sigma_light = run_with_perturbation(model_sigma, trials=trials, area=area, exc=exc, power=power)\n",
    "filt_light = m_teacher.filter_fun1(spikes_light)\n",
    "filt_full_light = m_teacher.filter_fun1(spikes_full_light)\n",
    "filt_sigma_light = m_teacher.filter_fun1(spikes_sigma_light)\n",
    "\n",
    "dp_refcirc = ((trial_type_light == 3)*1.).mean() - ((trial_type == 3)*1.).mean()\n",
    "dp_biornn = ((trial_type_full_light == 3)*1.).mean() - ((trial_type_full == 3)*1.).mean()\n",
    "dp_sigmarnn = ((trial_type_sigma_light == 3)*1.).mean() - ((trial_type_sigma == 3)*1.).mean()\n",
    "print(dp_refcirc, dp_biornn, dp_sigmarnn)"
   ]
  },
  {
   "cell_type": "code",
   "execution_count": 10,
   "metadata": {},
   "outputs": [
    {
     "data": {
      "image/png": "[encoded data removed]",
      "text/plain": [
       "<Figure size 155.26x155.26 with 1 Axes>"
      ]
     },
     "metadata": {},
     "output_type": "display_data"
    },
    {
     "data": {
      "image/png": "[encoded data removed]",
      "text/plain": [
       "<Figure size 155.26x155.26 with 1 Axes>"
      ]
     },
     "metadata": {},
     "output_type": "display_data"
    }
   ],
   "source": [
    "fig1, ax1 = plot_with_size(20, 20)\n",
    "strip_right_top_axis(ax1) \n",
    "psth_plot(filt, filt_full, trial_type, trial_type_full, area_index, ax1, area=0)\n",
    "fig1.savefig(\"Figures/Figure1/Figure1C_area1_full.pdf\", transparent=True)\n",
    "\n",
    "\n",
    "fig1, ax1 = plot_with_size(20, 20)\n",
    "strip_right_top_axis(ax1) \n",
    "psth_plot(filt, filt_full, trial_type, trial_type_full, area_index, ax1, area=1)\n",
    "fig1.savefig(\"Figures/Figure1/Figure1C_area2_full.pdf\", transparent=True)\n"
   ]
  },
  {
   "cell_type": "code",
   "execution_count": 11,
   "metadata": {},
   "outputs": [
    {
     "data": {
      "image/png": "[encoded data removed]",
      "text/plain": [
       "<Figure size 155.26x155.26 with 1 Axes>"
      ]
     },
     "metadata": {},
     "output_type": "display_data"
    },
    {
     "data": {
      "image/png": "[encoded data removed]",
      "text/plain": [
       "<Figure size 155.26x155.26 with 1 Axes>"
      ]
     },
     "metadata": {},
     "output_type": "display_data"
    }
   ],
   "source": [
    "fig1, ax1 = plot_with_size(20, 20)\n",
    "strip_right_top_axis(ax1) \n",
    "psth_plot(filt, filt_sigma, trial_type, trial_type_sigma, area_index, ax1, area=0)\n",
    "fig1.savefig(\"Figures/Figure1/Figure1D_area1_sigma.pdf\", transparent=True)\n",
    "\n",
    "\n",
    "fig1, ax1 = plot_with_size(20, 20)\n",
    "strip_right_top_axis(ax1) \n",
    "psth_plot(filt, filt_sigma, trial_type, trial_type_sigma, area_index, ax1, area=1)\n",
    "fig1.savefig(\"Figures/Figure1/Figure1D_area2_sigma.pdf\", transparent=True)\n"
   ]
  },
  {
   "cell_type": "code",
   "execution_count": 12,
   "metadata": {},
   "outputs": [
    {
     "data": {
      "image/png": "[encoded data removed]",
      "text/plain": [
       "<Figure size 155.26x155.26 with 1 Axes>"
      ]
     },
     "metadata": {},
     "output_type": "display_data"
    },
    {
     "data": {
      "image/png": "[encoded data removed]",
      "text/plain": [
       "<Figure size 155.26x155.26 with 1 Axes>"
      ]
     },
     "metadata": {},
     "output_type": "display_data"
    }
   ],
   "source": [
    "fig1, ax1 = plot_with_size(20, 20)\n",
    "strip_right_top_axis(ax1) \n",
    "psth_plot(filt_light, filt_full_light, trial_type_light, trial_type_full_light, area_index, ax1, area=0, neurons_show=1)\n",
    "fig1.savefig(\"Figures/Figure1/Figure1D_area1_full_light.pdf\", transparent=True)\n",
    "\n",
    "\n",
    "fig1, ax1 = plot_with_size(20, 20)\n",
    "strip_right_top_axis(ax1) \n",
    "psth_plot(filt_light, filt_full_light, trial_type_light, trial_type_full_light, area_index, ax1, area=1, neurons_show=1)\n",
    "fig1.savefig(\"Figures/Figure1/Figure1D_area2_full_light.pdf\", transparent=True)\n"
   ]
  },
  {
   "cell_type": "code",
   "execution_count": 13,
   "metadata": {},
   "outputs": [
    {
     "data": {
      "image/png": "[encoded data removed]",
      "text/plain": [
       "<Figure size 155.26x155.26 with 1 Axes>"
      ]
     },
     "metadata": {},
     "output_type": "display_data"
    },
    {
     "data": {
      "image/png": "[encoded data removed]",
      "text/plain": [
       "<Figure size 155.26x155.26 with 1 Axes>"
      ]
     },
     "metadata": {},
     "output_type": "display_data"
    }
   ],
   "source": [
    "fig1, ax1 = plot_with_size(20, 20)\n",
    "strip_right_top_axis(ax1) \n",
    "psth_plot(filt_light, filt_sigma_light, trial_type_light, trial_type_sigma_light, area_index, ax1, area=0)\n",
    "fig1.savefig(\"Figures/Figure1/Figure1D_area1_sigma_light.pdf\", transparent=True)\n",
    "\n",
    "\n",
    "fig1, ax1 = plot_with_size(20, 20)\n",
    "strip_right_top_axis(ax1) \n",
    "psth_plot(filt_light, filt_sigma_light, trial_type_light, trial_type_sigma_light, area_index, ax1, area=1, neurons_show=1)\n",
    "fig1.savefig(\"Figures/Figure1/Figure1D_area2_sigma_light.pdf\", transparent=True)\n"
   ]
  },
  {
   "cell_type": "code",
   "execution_count": 14,
   "metadata": {},
   "outputs": [],
   "source": [
    "reposition = [(0, 200), (400,450), (200,400), (450, 500)]\n",
    "r = []\n",
    "for r1 in reposition:\n",
    "    r.append([i for i in range(r1[0], r1[1])])\n",
    "r = np.concatenate(r)\n",
    "\n",
    "def spike_plot(spikes, r, ax, trial=0, alpha=1):\n",
    "    ax.set_axis_off()\n",
    "    ax.axvline(0, color=\"gold\", linewidth=0.5)\n",
    "    color = np.array([\"black\", \"red\"])\n",
    "    tsp, neurid = torch.where(spikes[:,trial,r].cpu())\n",
    "    tsp = tsp * model.timestep + model.opt.start\n",
    "    c = ((neurid % 250) > 200).long()\n",
    "    ax.set_xlim(-0.05, 0.15)\n",
    "    ax.set_ylim(0, 250)\n",
    "    ax.scatter(tsp, neurid, c=color[c], marker=\"|\",s=0.25, linewidth=0.25, alpha=alpha)\n",
    "    \n",
    "\n",
    "def activity_plot(spikes, ax, r, area=0, trial=0, sigmoid=False):\n",
    "    \n",
    "    ax.axvline(50, color=\"gold\", linewidth=0.5)\n",
    "    sp = spikes[:, trial, r]\n",
    "    # double the size of spikes for visualization\n",
    "    sp[:,:-1] += sp[:,1:]\n",
    "    sp[:,1:] += sp[:,:-1]\n",
    "    if not sigmoid:\n",
    "        sp[sp >0] = 1\n",
    "    inh = sp[:, r]\n",
    "    if area == 0:\n",
    "        inh[:,:200] *= 0\n",
    "        ax.pcolormesh(inh[:,:250].T, cmap=\"bwr\", vmin=-0.5, vmax=0.5, rasterized=True)\n",
    "        ax.pcolormesh(sp[:, r][:, :200].T, cmap=\"Greys\", vmin=0, vmax=0.5, rasterized=True)\n",
    "    else:\n",
    "        inh[:,:400] *= 0\n",
    "        ax.pcolormesh(inh[:,250:].T, cmap=\"bwr\", vmin=-0.5, vmax=0.5,rasterized=True)\n",
    "        ax.pcolormesh(sp[:, r][:,250:450].T, cmap=\"Greys\", vmin=0, vmax=0.5,rasterized=True)\n",
    "    strip_right_top_axis(ax)\n",
    "    ax.set_xticks([50, 150])\n",
    "    "
   ]
  },
  {
   "cell_type": "code",
   "execution_count": 15,
   "metadata": {},
   "outputs": [
    {
     "data": {
      "image/png": "[encoded data removed]",
      "text/plain": [
       "<Figure size 155.26x194.63 with 1 Axes>"
      ]
     },
     "metadata": {},
     "output_type": "display_data"
    },
    {
     "data": {
      "image/png": "[encoded data removed]",
      "text/plain": [
       "<Figure size 155.26x194.63 with 1 Axes>"
      ]
     },
     "metadata": {},
     "output_type": "display_data"
    },
    {
     "data": {
      "image/png": "[encoded data removed]",
      "text/plain": [
       "<Figure size 155.26x194.63 with 1 Axes>"
      ]
     },
     "metadata": {},
     "output_type": "display_data"
    },
    {
     "data": {
      "image/png": "[encoded data removed]",
      "text/plain": [
       "<Figure size 155.26x194.63 with 1 Axes>"
      ]
     },
     "metadata": {},
     "output_type": "display_data"
    }
   ],
   "source": [
    "fig, ax = plot_with_size(20, 25)\n",
    "activity_plot(spikes_full.cpu(), ax, r, area=0 ,trial=1)\n",
    "fig.savefig(\"Figures/Figure1/Figure1B_area1.pdf\", dpi=300, transparent=True)\n",
    "\n",
    "fig, ax = plot_with_size(20, 25)\n",
    "activity_plot(spikes_full.cpu(), ax, r, area=1 ,trial=1)\n",
    "fig.savefig(\"Figures/Figure1/Figure1B_area2.pdf\", dpi=300, transparent=True)\n",
    "\n",
    "fig, ax = plot_with_size(20, 25)\n",
    "activity_plot(spikes_sigma.cpu(), ax, r, area=0 ,trial=1, sigmoid=True)\n",
    "fig.savefig(\"Figures/Figure1/Figure1B_area1_sigma.pdf\", dpi=300, transparent=True)\n",
    "\n",
    "fig, ax = plot_with_size(20, 25)\n",
    "activity_plot(spikes_sigma.cpu(), ax, r, area=1 ,trial=1, sigmoid=True)\n",
    "fig.savefig(\"Figures/Figure1/Figure1B_area2_sigma.pdf\", dpi=300, transparent=True)\n",
    "\n"
   ]
  },
  {
   "cell_type": "code",
   "execution_count": null,
   "metadata": {},
   "outputs": [],
   "source": []
  },
  {
   "cell_type": "code",
   "execution_count": null,
   "metadata": {},
   "outputs": [],
   "source": []
  }
 ],
 "metadata": {
  "kernelspec": {
   "display_name": "Python 3",
   "language": "python",
   "name": "python3"
  },
  "language_info": {
   "codemirror_mode": {
    "name": "ipython",
    "version": 3
   },
   "file_extension": ".py",
   "mimetype": "text/x-python",
   "name": "python",
   "nbconvert_exporter": "python",
   "pygments_lexer": "ipython3",
   "version": "3.10.6"
  }
 },
 "nbformat": 4,
 "nbformat_minor": 2
}
