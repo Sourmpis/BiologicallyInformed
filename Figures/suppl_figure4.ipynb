{
 "cells": [
  {
   "cell_type": "code",
   "execution_count": 1,
   "metadata": {},
   "outputs": [],
   "source": [
    "from infopath.model_loader import load_model_and_optimizer\n",
    "from infopath.config import load_training_opt\n",
    "import matplotlib.pyplot as plt\n",
    "import torch \n",
    "import numpy as np\n",
    "from infopath.utils.functions import load_data, opto, run_with_perturbation, pear_corr, feature_pop_avg, mse_2d\n",
    "from infopath.losses import noise_cross_corr, cross_corr_guillaume, cross_corr_jitter, reorder_model_trials\n",
    "from infopath.train import t_trial_pearson\n",
    "import scipy.sparse as sp\n",
    "from infopath.config import compare_opt\n",
    "from scipy.optimize import linear_sum_assignment\n",
    "import os\n",
    "from infopath.utils.plot_utils import plot_with_size, strip_right_top_axis\n",
    "\n",
    "%reload_ext autoreload\n",
    "%autoreload 2\n",
    "font = {\"size\": 6, \"family\":\"arial\"}\n",
    "import matplotlib\n",
    "\n",
    "matplotlib.rc(\"font\", **font)\n",
    "matplotlib.rcParams[\"pdf.fonttype\"] = 42\n",
    "\n",
    "trials = 200\n",
    "thr = 7"
   ]
  },
  {
   "cell_type": "code",
   "execution_count": 2,
   "metadata": {},
   "outputs": [],
   "source": [
    "os.chdir(\"..\")"
   ]
  },
  {
   "cell_type": "code",
   "execution_count": 3,
   "metadata": {},
   "outputs": [],
   "source": [
    "logs = {\n",
    "    \"nofb\": \n",
    "    [\n",
    "        \"log_dir/1d74764c4551eef5158418ea67fbe1a5885dfdb1/2024_5_27_9_46_33_teacher_conf_block\",\n",
    "        \n",
    "        \"log_dir/1bde1ac87d7cb15dc373cf094c2db105bed98319/2024_6_2_14_49_6_l1across200_seed0\",\n",
    "        \"log_dir/1bde1ac87d7cb15dc373cf094c2db105bed98319/2024_6_2_14_49_8_l1across200_seed1\",\n",
    "        \"log_dir/1bde1ac87d7cb15dc373cf094c2db105bed98319/2024_6_2_14_49_9_l1across200_seed2\",\n",
    "\n",
    "        \"log_dir/1bde1ac87d7cb15dc373cf094c2db105bed98319/2024_6_4_12_45_32_l1across0_seed0\",\n",
    "        \"log_dir/1bde1ac87d7cb15dc373cf094c2db105bed98319/2024_6_4_12_46_42_l1across0_seed1\",\n",
    "        \"log_dir/1bde1ac87d7cb15dc373cf094c2db105bed98319/2024_6_4_12_46_42_l1across0_seed2\",\n",
    "        \n",
    "        \"log_dir/39a37b302593931ad8f1977c82e16327590f2805/2024_6_24_11_38_32_l1across100_seed0\",\n",
    "        \"log_dir/39a37b302593931ad8f1977c82e16327590f2805/2024_6_24_11_38_32_l1across100_seed1\",\n",
    "        \"log_dir/39a37b302593931ad8f1977c82e16327590f2805/2024_6_29_16_10_31_l1across100_seed2\",\n",
    "\n",
    "        \"log_dir/39a37b302593931ad8f1977c82e16327590f2805/2024_6_24_11_38_12_l1across0_seed0\",\n",
    "        \"log_dir/39a37b302593931ad8f1977c82e16327590f2805/2024_6_24_11_38_16_l1across0_seed1\",\n",
    "        \"log_dir/39a37b302593931ad8f1977c82e16327590f2805/2024_6_29_16_10_30_l1across0_seed2\",\n",
    "        ],\n",
    "    \"withfb1\":\n",
    "    [\n",
    "        \"log_dir/1d74764c4551eef5158418ea67fbe1a5885dfdb1/2024_5_27_9_46_33_teacher_conf\",\n",
    "        \n",
    "        \"log_dir/1bde1ac87d7cb15dc373cf094c2db105bed98319/2024_6_5_16_2_9_l1across10_seed0\",\n",
    "        \"log_dir/1bde1ac87d7cb15dc373cf094c2db105bed98319/2024_6_5_16_2_7_l1across10_seed1\",\n",
    "        \"log_dir/1bde1ac87d7cb15dc373cf094c2db105bed98319/2024_6_5_16_2_9_l1across10_seed2\",\n",
    "\n",
    "        \"log_dir/1bde1ac87d7cb15dc373cf094c2db105bed98319/2024_6_4_12_46_46_l1across0_seed0\",\n",
    "        \"log_dir/1bde1ac87d7cb15dc373cf094c2db105bed98319/2024_6_4_12_46_43_l1across0_seed1\",\n",
    "        \"log_dir/1bde1ac87d7cb15dc373cf094c2db105bed98319/2024_6_4_12_46_50_l1across0_seed2\",\n",
    "        \n",
    "        \"log_dir/39a37b302593931ad8f1977c82e16327590f2805/2024_6_25_9_26_38_l1across10_seed0\",\n",
    "        \"log_dir/39a37b302593931ad8f1977c82e16327590f2805/2024_6_25_9_26_33_l1across10_seed1\",\n",
    "        \"log_dir/39a37b302593931ad8f1977c82e16327590f2805/2024_6_29_18_7_58_l1across10_seed2\",\n",
    "\n",
    "        \"log_dir/39a37b302593931ad8f1977c82e16327590f2805/2024_6_25_9_26_31_l1across0_seed0\",\n",
    "        \"log_dir/39a37b302593931ad8f1977c82e16327590f2805/2024_6_25_9_26_34_l1across0_seed1\",\n",
    "        \"log_dir/39a37b302593931ad8f1977c82e16327590f2805/2024_6_29_17_22_27_l1across0_seed2\",\n",
    "        ]\n",
    "}"
   ]
  },
  {
   "cell_type": "code",
   "execution_count": 4,
   "metadata": {},
   "outputs": [],
   "source": [
    "def give_name(opt):\n",
    "    if opt.loss_cross_corr:\n",
    "        if not opt.l1_decay_across > 0:\n",
    "            return \"No sparsity + Cross-corr.\"\n",
    "        return \"Full rec. method + Cross-corr.\"\n",
    "    if not opt.l1_decay_across > 0:\n",
    "        return \"No sparsity\"\n",
    "    return \"Full rec. method\""
   ]
  },
  {
   "cell_type": "code",
   "execution_count": 5,
   "metadata": {},
   "outputs": [
    {
     "data": {
      "text/plain": [
       "0.02180362355206125"
      ]
     },
     "execution_count": 5,
     "metadata": {},
     "output_type": "execute_result"
    }
   ],
   "source": [
    "def pear_corr(y, y_pred, eps=1e-8, dim=1):\n",
    "    y, y_pred = y.cpu().numpy(), y_pred.cpu().numpy()\n",
    "    if dim == 1:\n",
    "        y_pred = (y_pred.T - y.mean(dim)).T\n",
    "        y = (y.T - y.mean(dim)).T\n",
    "    else:\n",
    "        y_pred = y_pred - y.mean(dim)\n",
    "        y = y - y.mean(dim)\n",
    "    cov = (y * y_pred).sum(dim)\n",
    "    y_sqr = (y * y).sum(dim)\n",
    "    y_sqr_pred = (y_pred * y_pred).sum(dim)\n",
    "    # x = cov / ((y_sqr * y_sqr_pred) ** 0.5 + eps)\n",
    "    return cov / ((y_sqr * y_sqr_pred) ** 0.5 + eps)\n",
    "\n",
    "\n",
    "def trial_matched_pearson(model, idx, spikes_nofb, spikes):   \n",
    "    t_trial_nofb, t_trial = feature_pop_avg(\n",
    "        model.filter_fun2(model.filter_fun1(spikes_nofb[:, :, idx])),\n",
    "        model.filter_fun2(model.filter_fun1(spikes[:, :, idx])),\n",
    "        None,\n",
    "        None,\n",
    "        model.rsnn.area_index[idx],\n",
    "        model.rsnn.excitatory_index[idx],\n",
    "        0,\n",
    "        z_score=model.opt.z_score,\n",
    "    )\n",
    "\n",
    "    t_trial_nofb, t_trial = t_trial_nofb.T, t_trial.T\n",
    "    keep = min(t_trial_nofb.shape[1], t_trial.shape[1])\n",
    "    keep_train = torch.randperm(t_trial_nofb.shape[1])[:keep]\n",
    "    keep_test = torch.randperm(t_trial.shape[1])[:keep]\n",
    "    t_trial_nofb, t_trial = t_trial_nofb[:, keep_train], t_trial[:, keep_test]\n",
    "    cost = mse_2d(t_trial_nofb, t_trial)\n",
    "    keepx, ytox = linear_sum_assignment(cost.detach().cpu().numpy())\n",
    "    t_trial_nofb = t_trial_nofb[:, keepx]\n",
    "    t_trial = t_trial[:, ytox]\n",
    "    return pear_corr(t_trial.T, t_trial_nofb.T), t_trial_nofb, t_trial, torch.nn.MSELoss()(t_trial_nofb, t_trial).item()\n",
    "\n",
    "# 95% confidence interval of bernoulli variable\n",
    "def confidence_interval(p, n):\n",
    "    return 1.96 * np.sqrt(p * (1-p) / n)\n",
    "confidence_interval(0.55, 2000)\n"
   ]
  },
  {
   "cell_type": "code",
   "execution_count": 6,
   "metadata": {},
   "outputs": [
    {
     "name": "stdout",
     "output_type": "stream",
     "text": [
      "datasets/GoNoGo_nofb\n",
      "Full rec. method 0.02867657\n",
      "datasets/GoNoGo_nofb\n",
      "No sparsity 0.32585314\n",
      "datasets/GoNoGo_nofb_seed2\n",
      "Full rec. method + Cross-corr. 0.05212754\n",
      "datasets/GoNoGo_nofb_seed2\n"
     ]
    },
    {
     "name": "stderr",
     "output_type": "stream",
     "text": [
      "findfont: Font family ['arial'] not found. Falling back to DejaVu Sans.\n"
     ]
    },
    {
     "name": "stdout",
     "output_type": "stream",
     "text": [
      "No sparsity + Cross-corr. 0.23023498\n"
     ]
    },
    {
     "name": "stderr",
     "output_type": "stream",
     "text": [
      "findfont: Font family ['arial'] not found. Falling back to DejaVu Sans.\n"
     ]
    },
    {
     "data": {
      "image/png": "[encoded data removed]",
      "text/plain": [
       "<Figure size 234x155.26 with 1 Axes>"
      ]
     },
     "metadata": {},
     "output_type": "display_data"
    },
    {
     "data": {
      "image/png": "[encoded data removed]",
      "text/plain": [
       "<Figure size 234x155.26 with 1 Axes>"
      ]
     },
     "metadata": {},
     "output_type": "display_data"
    },
    {
     "data": {
      "image/png": "[encoded data removed]",
      "text/plain": [
       "<Figure size 234x155.26 with 1 Axes>"
      ]
     },
     "metadata": {},
     "output_type": "display_data"
    },
    {
     "data": {
      "image/png": "[encoded data removed]",
      "text/plain": [
       "<Figure size 194.63x115.89 with 1 Axes>"
      ]
     },
     "metadata": {},
     "output_type": "display_data"
    },
    {
     "data": {
      "image/png": "[encoded data removed]",
      "text/plain": [
       "<Figure size 194.63x115.89 with 1 Axes>"
      ]
     },
     "metadata": {},
     "output_type": "display_data"
    },
    {
     "data": {
      "image/png": "[encoded data removed]",
      "text/plain": [
       "<Figure size 194.63x115.89 with 1 Axes>"
      ]
     },
     "metadata": {},
     "output_type": "display_data"
    },
    {
     "data": {
      "image/png": "[encoded data removed]",
      "text/plain": [
       "<Figure size 194.63x115.89 with 1 Axes>"
      ]
     },
     "metadata": {},
     "output_type": "display_data"
    },
    {
     "data": {
      "image/png": "[encoded data removed]",
      "text/plain": [
       "<Figure size 194.63x115.89 with 1 Axes>"
      ]
     },
     "metadata": {},
     "output_type": "display_data"
    },
    {
     "data": {
      "image/png": "[encoded data removed]",
      "text/plain": [
       "<Figure size 194.63x115.89 with 1 Axes>"
      ]
     },
     "metadata": {},
     "output_type": "display_data"
    },
    {
     "data": {
      "image/png": "[encoded data removed]",
      "text/plain": [
       "<Figure size 194.63x115.89 with 1 Axes>"
      ]
     },
     "metadata": {},
     "output_type": "display_data"
    },
    {
     "data": {
      "image/png": "[encoded data removed]",
      "text/plain": [
       "<Figure size 194.63x115.89 with 1 Axes>"
      ]
     },
     "metadata": {},
     "output_type": "display_data"
    },
    {
     "data": {
      "image/png": "[encoded data removed]",
      "text/plain": [
       "<Figure size 194.63x115.89 with 1 Axes>"
      ]
     },
     "metadata": {},
     "output_type": "display_data"
    },
    {
     "data": {
      "image/png": "[encoded data removed]",
      "text/plain": [
       "<Figure size 194.63x115.89 with 1 Axes>"
      ]
     },
     "metadata": {},
     "output_type": "display_data"
    },
    {
     "data": {
      "image/png": "[encoded data removed]",
      "text/plain": [
       "<Figure size 115.89x115.89 with 1 Axes>"
      ]
     },
     "metadata": {},
     "output_type": "display_data"
    }
   ],
   "source": [
    "trials = 2000\n",
    "colors = {\"base\":\"black\", \"teachers\":\"black\", \"No sparsity\": \"red\", \"Full rec. method\": \"blue\", \"Full rec. method + Cross-corr.\": \"green\", \"No sparsity + Cross-corr.\": \"purple\"}\n",
    "area = 1\n",
    "exc = 1\n",
    "power = 0.08\n",
    "hypothesis = \"nofb\"\n",
    "thr = 7\n",
    "\n",
    "table_psth_pear_mean_nofb, table_psth_pear_std_nofb = [], []\n",
    "hit_miss_mean, hit_miss_std = [], []\n",
    "phi, phi_std = [], []\n",
    "bins = np.linspace(-1, 2, 30)\n",
    "opt = load_training_opt(logs[hypothesis][0])\n",
    "model_nofb = load_model_and_optimizer(opt, reload=True, last_best=\"best\")[0]\n",
    "_, trial_type_nofb, _, spikes_nofb = run_with_perturbation(model_nofb, trials=trials, area=area, exc=exc, power=power, seed=0, thr=thr)\n",
    "_, _, _, spikes_nofb_seed1 = run_with_perturbation(model_nofb, trials=trials, area=area, exc=exc, power=power, seed=3, thr=thr)\n",
    "\n",
    "fr_nofb = spikes_nofb[:50].mean((0,1)) / model_nofb.timestep\n",
    "psth_nofb = model_nofb.filter_fun1(spikes_nofb).mean(1) / model_nofb.timestep\n",
    "trial_type_perc = trial_type_nofb.unique(return_counts=True)[1].cpu()\n",
    "# hit_miss_mean.append(trial_type_perc[3] / (trial_type_perc[0] + trial_type_perc[3]))\n",
    "fig, ax = plot_with_size(30, 20)\n",
    "x, y = np.histogram(fr_nofb.cpu().numpy().flatten(), bins=10**bins)\n",
    "ax.plot(y[:-1], x, color=\"black\", linestyle=\"--\")\n",
    "ax.set_xscale(\"log\")\n",
    "# violin = ax.violinplot([fr_nofb[fr_nofb > 0].cpu().numpy().flatten()], positions=[0], showextrema=False)#bins=10**bins, color=\"black\", alpha=0.2, label=\"Teacher\")\n",
    "# violin[\"bodies\"][0].set_facecolor(\"black\")\n",
    "fig_psth, ax_psth = plot_with_size(30, 20)\n",
    "fig_ttrial, ax_ttrial = plot_with_size(30, 20)\n",
    "torch.manual_seed(2)\n",
    "np.random.seed(4)\n",
    "random_neurons = np.random.choice(500, 5)\n",
    "figs_psth_single, axs_psth_single = [], []\n",
    "for n in random_neurons:\n",
    "    fig_psth_single, ax_psth_single = plot_with_size(25, 15)\n",
    "    strip_right_top_axis(ax_psth_single)\n",
    "    figs_psth_single.append(fig_psth_single)\n",
    "    axs_psth_single.append(ax_psth_single)\n",
    "    axs_psth_single[-1].plot(psth_nofb[:, n].cpu().numpy(), color=\"black\", alpha=0.5, linestyle=\"--\")\n",
    "\n",
    "random_trials = np.random.choice(trials, 5)\n",
    "figs_trial_single, axs_trial_single = [], []\n",
    "for n in random_trials:\n",
    "    fig_trial_single, ax_trial_single = plot_with_size(25, 15)\n",
    "    strip_right_top_axis(ax_trial_single)\n",
    "    figs_trial_single.append(fig_trial_single)\n",
    "    axs_trial_single.append(ax_trial_single)\n",
    "\n",
    "idx = model_nofb.rsnn.area_index == abs(1-area)\n",
    "if power == 0:\n",
    "    idx = model_nofb.rsnn.area_index > -1  \n",
    "rho_rc = trial_matched_pearson(model_nofb, idx, spikes_nofb, spikes_nofb_seed1)[0]\n",
    "\n",
    "# ax.hist(fr.cpu().numpy().flatten(), bins=10**bins, alpha=0.2, color=\"black\")\n",
    "# ax.set_xscale(\"log\")\n",
    "mse = []\n",
    "for i, log in enumerate(logs[hypothesis][1::3]):#[1::3]):\n",
    "    opt = load_training_opt(log)\n",
    "    model = load_model_and_optimizer(opt, reload=True, last_best=\"best\")[0]\n",
    "    print(opt.datapath)\n",
    "    name = give_name(opt)\n",
    "    _, trial_type, _, spikes = run_with_perturbation(model, trials=trials, area=area, exc=exc, power=power, seed=1, thr=thr)\n",
    "    trial_type_perc = trial_type.unique(return_counts=True)[1].cpu()\n",
    "    # hit_miss_mean.append(trial_type_perc[3] /  (trial_type_perc[0] + trial_type_perc[3]))\n",
    "    fr = spikes[:50].mean((0,1)) / model.timestep \n",
    "    psth = model.filter_fun1(spikes).mean(1) / model.timestep\n",
    "    t_neuron = pear_corr(psth, psth_nofb, dim=0) # pear_corr(psth, psth_nofb)\n",
    "    # t_neuron = (1 - ((psth - psth_nofb)**2).mean(0) / ((psth_nofb - psth_nofb.mean(0))**2).mean(0)).cpu().numpy()\n",
    "    t_neuron = t_neuron[fr_nofb.cpu().numpy() > 0]\n",
    "    table_psth_pear_mean_nofb.append(t_neuron.mean())\n",
    "    table_psth_pear_std_nofb.append(t_neuron.std())\n",
    "    violin = ax_psth.violinplot([t_neuron], positions=[i], showextrema=False)\n",
    "    violin[\"bodies\"][0].set_facecolor(colors[name])\n",
    "    # ax_psth.set_ylim(0, 1)\n",
    "    ax_psth.set_xticks(range(5))\n",
    "    # ax.hist(fr.cpu().numpy().flatten(), bins=10**bins, alpha=0.2, color=colors[name])\n",
    "    # ax.set_xscale(\"log\")\n",
    "    x, y = np.histogram(fr[fr > 0].cpu().numpy().flatten(), bins=10**bins)\n",
    "    ax.plot(y[:-1], x, color=colors[name], alpha=0.2)\n",
    "    # violin = ax.violinplot([fr[fr > 0].cpu().numpy().flatten()], positions=[i+1], showextrema=False)#bins=10**bins, color=\"black\", alpha=0.2, label=\"Teacher\")\n",
    "    # violin[\"bodies\"][0].set_facecolor(colors[name])\n",
    "    # ax.set_xticks(range(6))\n",
    "    # ax.set_ylim(0.01, 10)\n",
    "\n",
    "\n",
    "    for j, n in enumerate(random_neurons):\n",
    "        axs_psth_single[j].plot(psth[:, n].cpu().numpy(), color=colors[name], alpha=0.2)\n",
    "        axs_psth_single[j].set_title(f\"Neuron {n}\")\n",
    "    rho_rn, t_trial_nofb, t_trial, mse1 = trial_matched_pearson(model, idx, spikes_nofb, spikes)\n",
    "    mse.append(mse1)\n",
    "    phi.append(rho_rc.mean() - rho_rn.mean())\n",
    "    phi_std.append(((rho_rn.std())**2 + (rho_rc.std())**2)**0.5/np.sqrt(trials))\n",
    "    print(name, phi[-1]) \n",
    "\n",
    "    for j, n in enumerate(random_trials):\n",
    "        axs_trial_single[j].plot(t_trial_nofb[:, n].cpu().numpy(), color=\"black\", alpha=0.1, linestyle=\"--\")\n",
    "        axs_trial_single[j].plot(t_trial[:, n].cpu().numpy(), color=colors[name], alpha=0.2)\n",
    "        axs_trial_single[j].set_title(f\"Trial {n}\")\n",
    "\n",
    "\n",
    "xs = np.arange(len(phi))\n",
    "ax_ttrial.scatter(xs, phi, color=\"black\", s=20)\n",
    "ax_ttrial.errorbar(xs, phi, yerr=phi_std, fmt=\"none\", capsize=3, color=\"black\")\n",
    "ax_ttrial.set_xticks(range(6))\n",
    "\n",
    "strip_right_top_axis(ax)\n",
    "strip_right_top_axis(ax_psth)\n",
    "strip_right_top_axis(ax_ttrial)\n",
    "fig.savefig(f\"FiguresOpto/Supplementary_Figure1/fr_{hypothesis}.pdf\", bbox_inches=\"tight\", transparent=True)\n",
    "fig_psth.savefig(f\"FiguresOpto/Supplementary_Figure1/psth_{hypothesis}.pdf\", bbox_inches=\"tight\", transparent=True)\n",
    "fig_ttrial.savefig(f\"FiguresOpto/Supplementary_Figure1/ttrial_{hypothesis}.pdf\", bbox_inches=\"tight\", transparent=True)\n",
    "for i, fig in enumerate(figs_psth_single):\n",
    "    fig.savefig(f\"FiguresOpto/Supplementary_Figure1/psth_single_{hypothesis}_{i}.pdf\", bbox_inches=\"tight\", transparent=True)\n",
    "for i, fig in enumerate(figs_trial_single):\n",
    "    fig.savefig(f\"FiguresOpto/Supplementary_Figure1/trial_single_{hypothesis}_{i}.pdf\", bbox_inches=\"tight\", transparent=True)\n",
    "\n",
    "\n",
    "fig, ax = plot_with_size(15, 15)\n",
    "xs = np.arange(len(hit_miss_mean))\n",
    "ax.scatter(xs, hit_miss_mean, color=\"black\", s=20)\n",
    "ax.errorbar(xs, hit_miss_mean, yerr=confidence_interval(np.array(hit_miss_mean), 2000), fmt=\"none\", capsize=3, color=\"black\")\n",
    "ax.set_xticks(range(6))\n",
    "\n",
    "fig.savefig(f\"FiguresOpto/Supplementary_Figure1/hit_miss_{hypothesis}.pdf\", bbox_inches=\"tight\", transparent=True)"
   ]
  },
  {
   "cell_type": "code",
   "execution_count": null,
   "metadata": {},
   "outputs": [],
   "source": []
  },
  {
   "cell_type": "code",
   "execution_count": 6,
   "metadata": {},
   "outputs": [
    {
     "name": "stdout",
     "output_type": "stream",
     "text": [
      "hello\n",
      "Full rec. method -0.0035928488\n",
      "Full rec. method -0.0037133098\n",
      "Full rec. method -0.0047169924\n",
      "No sparsity -0.002262354\n",
      "No sparsity -0.0027270913\n",
      "No sparsity -0.0035222769\n",
      "Full rec. method + Cross-corr. 0.0053294897\n",
      "Full rec. method + Cross-corr. 0.0028301477\n",
      "Full rec. method + Cross-corr. 0.004254043\n",
      "No sparsity + Cross-corr. 0.0027065873\n",
      "No sparsity + Cross-corr. 0.003740549\n",
      "No sparsity + Cross-corr. 0.0045517683\n",
      "Full rec. method -0.003027916\n",
      "Full rec. method -0.0015752912\n",
      "Full rec. method -0.00352633\n",
      "No sparsity -0.0018413663\n",
      "No sparsity -0.0032847524\n",
      "No sparsity -0.0021915436\n",
      "Full rec. method + Cross-corr. 0.018887103\n",
      "Full rec. method + Cross-corr. 0.01374197\n",
      "Full rec. method + Cross-corr. 0.019109726\n",
      "No sparsity + Cross-corr. 0.020415545\n",
      "No sparsity + Cross-corr. 0.017089307\n",
      "No sparsity + Cross-corr. 0.019245267\n",
      "Full rec. method -0.0014756322\n",
      "Full rec. method -0.0005105138\n",
      "Full rec. method -0.0025154352\n",
      "No sparsity -0.0007210374\n",
      "No sparsity -0.0019766688\n",
      "No sparsity -0.0024331212\n",
      "Full rec. method + Cross-corr. 0.031478703\n",
      "Full rec. method + Cross-corr. 0.024614334\n",
      "Full rec. method + Cross-corr. 0.03445238\n",
      "No sparsity + Cross-corr. 0.03510505\n",
      "No sparsity + Cross-corr. 0.027141094\n",
      "No sparsity + Cross-corr. 0.03651637\n",
      "Full rec. method -0.0003219247\n",
      "Full rec. method 0.001747191\n",
      "Full rec. method -0.00093859434\n",
      "No sparsity 0.00020503998\n",
      "No sparsity 0.0015354156\n",
      "No sparsity 0.0005540848\n",
      "Full rec. method + Cross-corr. 0.051560402\n",
      "Full rec. method + Cross-corr. 0.047327876\n",
      "Full rec. method + Cross-corr. 0.053205907\n",
      "No sparsity + Cross-corr. 0.058937967\n",
      "No sparsity + Cross-corr. 0.0447945\n",
      "No sparsity + Cross-corr. 0.060138583\n",
      "Full rec. method 0.0013862848\n",
      "Full rec. method 0.003379047\n",
      "Full rec. method 0.0027570724\n",
      "No sparsity 0.0012127161\n",
      "No sparsity 0.0024823546\n",
      "No sparsity 0.002513051\n",
      "Full rec. method + Cross-corr. 0.027296722\n",
      "Full rec. method + Cross-corr. 0.02308327\n",
      "Full rec. method + Cross-corr. 0.026144624\n",
      "No sparsity + Cross-corr. 0.029652476\n",
      "No sparsity + Cross-corr. 0.021474898\n",
      "No sparsity + Cross-corr. 0.030507803\n",
      "Full rec. method -0.0035928488\n",
      "Full rec. method -0.0037133098\n",
      "Full rec. method -0.0047169924\n",
      "No sparsity -0.002262354\n",
      "No sparsity -0.0027270913\n",
      "No sparsity -0.0035222769\n",
      "Full rec. method + Cross-corr. 0.0053294897\n",
      "Full rec. method + Cross-corr. 0.0028301477\n",
      "Full rec. method + Cross-corr. 0.004254043\n",
      "No sparsity + Cross-corr. 0.0027065873\n",
      "No sparsity + Cross-corr. 0.003740549\n",
      "No sparsity + Cross-corr. 0.0045517683\n",
      "Full rec. method -0.005136609\n",
      "Full rec. method -0.004576385\n",
      "Full rec. method -0.0059720874\n",
      "No sparsity -0.0054507256\n",
      "No sparsity -0.005665362\n",
      "No sparsity -0.0060753226\n",
      "Full rec. method + Cross-corr. 0.00046807528\n",
      "Full rec. method + Cross-corr. 0.00064349174\n",
      "Full rec. method + Cross-corr. 0.0008342266\n",
      "No sparsity + Cross-corr. 0.00091964006\n",
      "No sparsity + Cross-corr. 0.00034356117\n",
      "No sparsity + Cross-corr. 0.0011546612\n",
      "Full rec. method -0.006070435\n",
      "Full rec. method -0.0070245266\n",
      "Full rec. method -0.0055737495\n",
      "No sparsity -0.0057290196\n",
      "No sparsity -0.0051800013\n",
      "No sparsity -0.005971968\n",
      "Full rec. method + Cross-corr. 0.006053865\n",
      "Full rec. method + Cross-corr. 0.004093945\n",
      "Full rec. method + Cross-corr. 0.0045164227\n",
      "No sparsity + Cross-corr. 0.0072255135\n",
      "No sparsity + Cross-corr. 0.001465559\n",
      "No sparsity + Cross-corr. 0.005521536\n",
      "Full rec. method 0.0034903884\n",
      "Full rec. method 0.001992166\n",
      "Full rec. method 0.0036277175\n",
      "No sparsity 0.005553663\n",
      "No sparsity 0.0059622526\n",
      "No sparsity 0.0043063164\n",
      "Full rec. method + Cross-corr. 0.017726064\n",
      "Full rec. method + Cross-corr. 0.016603053\n",
      "Full rec. method + Cross-corr. 0.016921282\n",
      "No sparsity + Cross-corr. 0.018817008\n",
      "No sparsity + Cross-corr. 0.01630932\n",
      "No sparsity + Cross-corr. 0.01646614\n",
      "Full rec. method 0.011475682\n",
      "Full rec. method 0.012724221\n",
      "Full rec. method 0.013898909\n",
      "No sparsity 0.017136335\n",
      "No sparsity 0.01974976\n",
      "No sparsity 0.014965057\n",
      "Full rec. method + Cross-corr. 0.026145339\n",
      "Full rec. method + Cross-corr. 0.024645269\n",
      "Full rec. method + Cross-corr. 0.024059653\n",
      "No sparsity + Cross-corr. 0.028027415\n",
      "No sparsity + Cross-corr. 0.027019858\n",
      "No sparsity + Cross-corr. 0.027056754\n",
      "hello\n",
      "Full rec. method -0.0018463135\n",
      "Full rec. method -0.004303336\n",
      "Full rec. method -0.0022987723\n",
      "No sparsity -0.0008392334\n",
      "No sparsity -0.00027686357\n",
      "No sparsity -0.00093996525\n",
      "Full rec. method + Cross-corr. -9.6559525e-05\n",
      "Full rec. method + Cross-corr. -0.0008520484\n",
      "Full rec. method + Cross-corr. 0.0009495616\n",
      "No sparsity + Cross-corr. -0.00048172474\n",
      "No sparsity + Cross-corr. -0.0015786886\n",
      "No sparsity + Cross-corr. 0.0009127259\n",
      "Full rec. method -0.0017436147\n",
      "Full rec. method -0.0036514997\n",
      "Full rec. method -0.0020572543\n",
      "No sparsity 0.0031151175\n",
      "No sparsity 0.0040183067\n",
      "No sparsity 0.0026242733\n",
      "Full rec. method + Cross-corr. 0.001069665\n",
      "Full rec. method + Cross-corr. 8.3088875e-05\n",
      "Full rec. method + Cross-corr. 0.0016145706\n",
      "No sparsity + Cross-corr. 0.002826929\n",
      "No sparsity + Cross-corr. 0.0023326874\n",
      "No sparsity + Cross-corr. 0.006768763\n",
      "Full rec. method -0.0017601252\n",
      "Full rec. method -0.0037391782\n",
      "Full rec. method -0.0020762086\n",
      "No sparsity 0.00707525\n",
      "No sparsity 0.0064693093\n",
      "No sparsity 0.005740285\n",
      "Full rec. method + Cross-corr. 0.0020830035\n",
      "Full rec. method + Cross-corr. 0.0012207031\n",
      "Full rec. method + Cross-corr. 0.002060473\n",
      "No sparsity + Cross-corr. 0.008556902\n",
      "No sparsity + Cross-corr. 0.00572145\n",
      "No sparsity + Cross-corr. 0.012112141\n",
      "Full rec. method -0.0019750595\n",
      "Full rec. method -0.0026219487\n",
      "Full rec. method -0.0010734797\n",
      "No sparsity 0.017544031\n",
      "No sparsity 0.015879512\n",
      "No sparsity 0.013702452\n",
      "Full rec. method + Cross-corr. 0.003855586\n",
      "Full rec. method + Cross-corr. 0.002433598\n",
      "Full rec. method + Cross-corr. 0.00422734\n",
      "No sparsity + Cross-corr. 0.020513594\n",
      "No sparsity + Cross-corr. 0.018233001\n",
      "No sparsity + Cross-corr. 0.025467634\n",
      "Full rec. method -6.0081482e-05\n",
      "Full rec. method 0.0023534298\n",
      "Full rec. method 0.003247559\n",
      "No sparsity 0.04352075\n",
      "No sparsity 0.03905028\n",
      "No sparsity 0.037397385\n",
      "Full rec. method + Cross-corr. 0.0069108605\n",
      "Full rec. method + Cross-corr. 0.0052414536\n",
      "Full rec. method + Cross-corr. 0.007940173\n",
      "No sparsity + Cross-corr. 0.031413436\n",
      "No sparsity + Cross-corr. 0.029611826\n",
      "No sparsity + Cross-corr. 0.040320814\n",
      "Full rec. method -0.0018463135\n",
      "Full rec. method -0.004303336\n",
      "Full rec. method -0.0022987723\n",
      "No sparsity -0.0008392334\n",
      "No sparsity -0.00027686357\n",
      "No sparsity -0.00093996525\n",
      "Full rec. method + Cross-corr. -9.6559525e-05\n",
      "Full rec. method + Cross-corr. -0.0008520484\n",
      "Full rec. method + Cross-corr. 0.0009495616\n",
      "No sparsity + Cross-corr. -0.00048172474\n",
      "No sparsity + Cross-corr. -0.0015786886\n",
      "No sparsity + Cross-corr. 0.0009127259\n",
      "Full rec. method -0.003071487\n",
      "Full rec. method -0.004237175\n",
      "Full rec. method -0.002556622\n",
      "No sparsity -0.0033672452\n",
      "No sparsity -0.0019818544\n",
      "No sparsity -0.0022172332\n",
      "Full rec. method + Cross-corr. -0.0014679432\n",
      "Full rec. method + Cross-corr. -0.0016966462\n",
      "Full rec. method + Cross-corr. -0.0017598867\n",
      "No sparsity + Cross-corr. -0.0024763346\n",
      "No sparsity + Cross-corr. -0.0019354224\n",
      "No sparsity + Cross-corr. -0.0015889406\n",
      "Full rec. method -0.002830565\n",
      "Full rec. method -0.0039181113\n",
      "Full rec. method -0.0029931664\n",
      "No sparsity 0.004874766\n",
      "No sparsity 0.008464456\n",
      "No sparsity 0.008418202\n",
      "Full rec. method + Cross-corr. -0.00335145\n",
      "Full rec. method + Cross-corr. -0.0035354495\n",
      "Full rec. method + Cross-corr. -0.002367258\n",
      "No sparsity + Cross-corr. 0.0019221902\n",
      "No sparsity + Cross-corr. 0.003344357\n",
      "No sparsity + Cross-corr. 0.0018289685\n",
      "Full rec. method -0.0010107756\n",
      "Full rec. method -0.0028963685\n",
      "Full rec. method -0.0005367398\n",
      "No sparsity 0.06424695\n",
      "No sparsity 0.07451612\n",
      "No sparsity 0.07303333\n",
      "Full rec. method + Cross-corr. 0.0006018877\n",
      "Full rec. method + Cross-corr. -0.0021818876\n",
      "Full rec. method + Cross-corr. 0.00012385845\n",
      "No sparsity + Cross-corr. 0.030431747\n",
      "No sparsity + Cross-corr. 0.034331918\n",
      "No sparsity + Cross-corr. 0.029846191\n",
      "Full rec. method 0.013417363\n",
      "Full rec. method 0.00930506\n",
      "Full rec. method 0.018653989\n",
      "No sparsity 0.1730504\n",
      "No sparsity 0.18412328\n",
      "No sparsity 0.1836667\n",
      "Full rec. method + Cross-corr. 0.026136458\n",
      "Full rec. method + Cross-corr. 0.011475146\n",
      "Full rec. method + Cross-corr. 0.027128398\n",
      "No sparsity + Cross-corr. 0.121605396\n",
      "No sparsity + Cross-corr. 0.13116252\n",
      "No sparsity + Cross-corr. 0.11959875\n"
     ]
    }
   ],
   "source": [
    "import pandas as pd\n",
    "area = 1\n",
    "trials = 2000\n",
    "for hypothesis in [\"withfb1\", \"nofb\"]:\n",
    "    models = []\n",
    "    for log in logs[hypothesis]:\n",
    "        opt = load_training_opt(log)\n",
    "        model = load_model_and_optimizer(opt, reload=True, last_best=\"best\")[0]\n",
    "        models.append(model)\n",
    "    print('hello')\n",
    "    for activation in [0, 1]:\n",
    "        df = pd.DataFrame(columns=(\"hypothesis\", \"model_name\", \"phi21\", \"power\", \"activation\", \"seed\"))\n",
    "        if activation == 1:\n",
    "            power = [0, 0.01, 0.02, 0.04, 0.08]\n",
    "        else:\n",
    "            power = [0, 0.1, 0.2 ,0.5, 1]\n",
    "        for p in power:\n",
    "            _, trial_type_nofb, _, spikes_nofb = run_with_perturbation(models[0], trials=trials, area=area, exc=activation, power=p, seed=0, thr=thr)\n",
    "            _, _, _, spikes_nofb_seed1 = run_with_perturbation(models[0], trials=trials, area=area, exc=activation, power=p, seed=3, thr=thr)\n",
    "            idx = models[0].rsnn.area_index == abs(1-area)\n",
    "            rho_rc = t_trial_pearson(models[0].filter_fun1(spikes_nofb), models[0].filter_fun1(spikes_nofb_seed1),None,None, models[0], [[idx]])\n",
    "            torch.cuda.empty_cache()\n",
    "            for i, model in enumerate(models[1:]):\n",
    "                # opt = load_training_opt(log)\n",
    "                # model = load_model_and_optimizer(opt, reload=True, last_best=\"best\")[0]\n",
    "                name = give_name(model.opt)\n",
    "                _, trial_type, _, spikes = run_with_perturbation(model, trials=trials, area=area, exc=activation, power=p, seed=1, thr=thr)\n",
    "                rho_rn = t_trial_pearson(models[0].filter_fun1(spikes_nofb), models[0].filter_fun1(spikes),None,None, models[0], [[idx]])\n",
    "                phi = (rho_rc.mean() - rho_rn.mean())\n",
    "                print(name, phi)\n",
    "                seed = int(log[-1])\n",
    "                phi_std = (((rho_rn.std())**2 + (rho_rc.std())**2)**0.5/np.sqrt(trials))\n",
    "                entry = {\"hypothesis\": hypothesis, \"model_name\": name, \"phi21\": phi, \"power\": p, \"activation\": activation, \"seed\": seed}\n",
    "                df = pd.concat([df, pd.DataFrame(entry, index=[0])], ignore_index=True)\n",
    "        act = \"activation\" if activation else \"inactivation\"\n",
    "        df.to_csv(f\"FiguresOpto/Supplementary_Figure4/phi_{hypothesis}_{act}.csv\")"
   ]
  },
  {
   "cell_type": "code",
   "execution_count": 8,
   "metadata": {},
   "outputs": [
    {
     "name": "stdout",
     "output_type": "stream",
     "text": [
      "Full rec. method\n",
      "No sparsity\n",
      "Full rec. method + Cross-corr.\n",
      "No sparsity + Cross-corr.\n",
      "Full rec. method\n",
      "No sparsity\n",
      "Full rec. method + Cross-corr.\n",
      "No sparsity + Cross-corr.\n",
      "Full rec. method\n",
      "No sparsity\n",
      "Full rec. method + Cross-corr.\n",
      "No sparsity + Cross-corr.\n",
      "Full rec. method\n",
      "No sparsity\n",
      "Full rec. method + Cross-corr.\n",
      "No sparsity + Cross-corr.\n"
     ]
    },
    {
     "data": {
      "image/png": "[encoded data removed]",
      "text/plain": [
       "<Figure size 234x234 with 1 Axes>"
      ]
     },
     "metadata": {},
     "output_type": "display_data"
    },
    {
     "data": {
      "image/png": "[encoded data removed]",
      "text/plain": [
       "<Figure size 234x234 with 1 Axes>"
      ]
     },
     "metadata": {},
     "output_type": "display_data"
    },
    {
     "data": {
      "image/png": "[encoded data removed]",
      "text/plain": [
       "<Figure size 234x234 with 1 Axes>"
      ]
     },
     "metadata": {},
     "output_type": "display_data"
    },
    {
     "data": {
      "image/png": "[encoded data removed]",
      "text/plain": [
       "<Figure size 234x234 with 1 Axes>"
      ]
     },
     "metadata": {},
     "output_type": "display_data"
    }
   ],
   "source": [
    "hypothesis = \"nofb\"\n",
    "plot_diff = True\n",
    "colors = {\"No sparsity\": \"red\", \"Full rec. method\": \"blue\", \"Full rec. method + Cross-corr.\": \"green\", \"No sparsity + Cross-corr.\": \"purple\"}\n",
    "label_models = [\"Full rec. method\", \"No sparsity\", \"Full rec. method + Cross-corr.\", \"No sparsity + Cross-corr.\"]\n",
    "\n",
    "for hypothesis in [\"nofb\", \"withfb1\"]:\n",
    "    for activation in [0, 1]:\n",
    "        act = \"activation\" if activation else \"inactivation\"\n",
    "        df = pd.read_csv(f\"FiguresOpto/Supplementary_Figure4/phi_{hypothesis}_{act}.csv\")\n",
    "        fig1, ax1 = plot_with_size(30, 30)\n",
    "        if activation == 1:\n",
    "            powers = [0, 0.01, 0.02, 0.04, 0.08]\n",
    "        else:\n",
    "            powers = [0, 0.1, 0.2 ,0.5, 1]\n",
    "        phis_21 = []\n",
    "        for name in label_models:\n",
    "            print(name)\n",
    "            phi_21 = df[(df.model_name == name) & (df.activation == activation)].groupby(\"power\").phi21.mean().values\n",
    "            phis_21.append(phi_21)\n",
    "        phis_21 = np.array(phis_21)\n",
    "        vmax, vmin = 0.15, 0\n",
    "        im = ax1.imshow(phis_21, cmap=\"Reds\", vmin=vmin, vmax=vmax)\n",
    "        yticks = 4\n",
    "        ax1.set_xticks(range(5))\n",
    "        # ax1.set_xticklabels(powers)\n",
    "        ax1.set_yticks(range(4))\n",
    "        # ax1.set_yticklabels(label_models)\n",
    "        fig1.savefig(f\"FiguresOpto/Supplementary_Figure4/phi_{hypothesis}_{act}.pdf\", bbox_inches=\"tight\", transparent=True)"
   ]
  },
  {
   "cell_type": "code",
   "execution_count": 18,
   "metadata": {},
   "outputs": [
    {
     "data": {
      "text/plain": [
       "array([[-0.00043571],\n",
       "       [ 0.00354564],\n",
       "       [-0.00189215],\n",
       "       [-0.00026238]])"
      ]
     },
     "execution_count": 18,
     "metadata": {},
     "output_type": "execute_result"
    }
   ],
   "source": [
    "phis_21"
   ]
  },
  {
   "cell_type": "code",
   "execution_count": null,
   "metadata": {},
   "outputs": [],
   "source": []
  }
 ],
 "metadata": {
  "kernelspec": {
   "display_name": "Python 3",
   "language": "python",
   "name": "python3"
  },
  "language_info": {
   "codemirror_mode": {
    "name": "ipython",
    "version": 3
   },
   "file_extension": ".py",
   "mimetype": "text/x-python",
   "name": "python",
   "nbconvert_exporter": "python",
   "pygments_lexer": "ipython3",
   "version": "3.10.6"
  }
 },
 "nbformat": 4,
 "nbformat_minor": 2
}
