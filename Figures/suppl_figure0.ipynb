{
 "cells": [
  {
   "cell_type": "code",
   "execution_count": 4,
   "metadata": {},
   "outputs": [],
   "source": [
    "from infopath.model_loader import load_model_and_optimizer\n",
    "from infopath.config import load_training_opt\n",
    "import torch \n",
    "from infopath.utils.functions import run_with_perturbation\n",
    "import os\n",
    "from infopath.utils.plot_utils import plot_with_size, strip_right_top_axis\n",
    "import numpy as np\n",
    "import random \n",
    "%reload_ext autoreload\n",
    "%autoreload 2\n",
    "font = {\"size\": 6, \"family\":\"arial\"}\n",
    "import matplotlib\n",
    "\n",
    "matplotlib.rc(\"font\", **font)\n",
    "matplotlib.rcParams[\"pdf.fonttype\"] = 42\n",
    "DEVICE = \"cuda\" if torch.cuda.is_available() else \"cpu\""
   ]
  },
  {
   "cell_type": "code",
   "execution_count": 2,
   "metadata": {},
   "outputs": [],
   "source": [
    "# set seed for reproducibility\n",
    "seed = 1\n",
    "torch.manual_seed(seed)\n",
    "torch.cuda.manual_seed(seed)\n",
    "np.random.seed(seed)\n",
    "random.seed(seed)\n",
    "torch.backends.cudnn.deterministic=True"
   ]
  },
  {
   "cell_type": "code",
   "execution_count": 3,
   "metadata": {},
   "outputs": [],
   "source": [
    "os.chdir(\"..\")"
   ]
  },
  {
   "cell_type": "code",
   "execution_count": null,
   "metadata": {},
   "outputs": [],
   "source": [
    "trials = 100\n",
    "dt = 0.001\n",
    "size = 16\n",
    "teacher_nofb = \"log_dir/1d74764c4551eef5158418ea67fbe1a5885dfdb1/2024_5_27_9_46_33_teacher_conf_block/\"\n",
    "opt = load_training_opt(teacher_nofb)\n",
    "opt.device = DEVICE\n",
    "m_teacher_nofb = load_model_and_optimizer(opt, reload=True, last_best=\"best\")[0]\n",
    "\n",
    "\n",
    "teacher_withfb = \"log_dir/1d74764c4551eef5158418ea67fbe1a5885dfdb1/2024_5_27_9_46_33_teacher_conf/\"\n",
    "torch.cuda.empty_cache()\n",
    "opt = load_training_opt(teacher_withfb)\n",
    "opt.device = DEVICE\n",
    "m_teacher_withfb = load_model_and_optimizer(opt, reload=True, last_best=\"best\")[0]\n",
    "m_teacher_withfb.rsnn.decay_v = torch.exp(-opt.dt / m_teacher_withfb.rsnn.tau)\n",
    "\n",
    "area_index = m_teacher_withfb.rsnn.area_index\n",
    "excitatory_index = m_teacher_withfb.rsnn.excitatory_index"
   ]
  },
  {
   "cell_type": "code",
   "execution_count": 5,
   "metadata": {},
   "outputs": [],
   "source": [
    "@torch.no_grad()\n",
    "def run(model, trials=400, thr=7, seed=0):\n",
    "    stims = torch.ones(trials)*4 \n",
    "    torch.manual_seed(seed)\n",
    "    spikes = model(stims)[0]\n",
    "    filt = model.filter_fun2(model.filter_fun1(spikes))\n",
    "    area0_active = (\n",
    "        filt[:, :, model.rsnn.area_index == 0].mean((2)).max(0)[0] / model.timestep\n",
    "        > thr\n",
    "    )\n",
    "    area1_active = (\n",
    "        filt[:, :, model.rsnn.area_index == 1].mean((2)).max(0)[0] / model.timestep\n",
    "        > thr\n",
    "    )\n",
    "    trial_type = area0_active * 2 + area1_active\n",
    "    return spikes, model.filter_fun1(spikes), trial_type\n",
    "\n",
    "\n",
    "def psth_plot(filt, filt1, trial_type, trial_type1, area_index, ax, area=0, dt=0.001, start=-0.048, stop=0.152, neurons_show=-1):\n",
    "    time = torch.arange(0, filt.shape[0])/filt.shape[0] *(stop-start) + start\n",
    "    neurons_show = area_index == area if neurons_show == -1 else (area_index == area) & (excitatory_index == neurons_show)\n",
    "    ax.axvline(0, color=\"gold\")\n",
    "    ax.plot(time, filt[:, :, neurons_show][:,trial_type<=1].mean((1,2)).cpu()/dt, color=\"orange\", alpha=0.7, linewidth=1)\n",
    "    ax.plot(time, filt[:, :, neurons_show][:,trial_type==3].mean((1,2)).cpu()/dt, color=\"blue\", alpha=0.7, linewidth=1)\n",
    "    ax.axvline(0, color=\"gold\")\n",
    "    ax.plot(time, filt1[:, :, neurons_show][:,trial_type1<=1].mean((1,2)).cpu()/dt, color=\"red\", alpha=0.7, linewidth=1)\n",
    "    ax.plot(time, filt1[:, :, neurons_show][:,trial_type1==3].mean((1,2)).cpu()/dt, color=\"green\", alpha=0.7, linewidth=1)\n",
    "    ax.set_ylim(0, 21)\n",
    "    return ax\n",
    "\n",
    "def spike_plot(spikes, trial_type, area_index, ax, area=0, dt=0.001, start=-0.048, trial=0):\n",
    "    ax.axvline(0, color=\"gold\")\n",
    "    hit_trial = torch.where(trial_type==3)[0][trial]\n",
    "    tms, neurons = torch.where(spikes[:, hit_trial, area_index == area].cpu() > 0)\n",
    "    color = [\"red\" if i else \"black\" for i in (neurons >= 200)]\n",
    "    ax.scatter(tms*dt+start, neurons, marker=\"|\", s=2, c=color, linewidth=0.5)\n",
    "    strip_right_top_axis(ax)    \n",
    "    return ax\n",
    "\n"
   ]
  },
  {
   "cell_type": "code",
   "execution_count": 6,
   "metadata": {},
   "outputs": [],
   "source": [
    "area = 1\n",
    "exc = 0\n",
    "power = 0\n",
    "torch.manual_seed(0)\n",
    "filt_nofb, trial_type_nofb, _, spikes_nofb = run_with_perturbation(m_teacher_nofb, trials=trials, area=area, exc=exc, power=power)\n",
    "filt_withfb, trial_type_withfb, _, spikes_withfb = run_with_perturbation(m_teacher_withfb, trials=trials, area=area, exc=exc, power=power)\n",
    "filt_nofb = m_teacher_nofb.filter_fun1(spikes_nofb)\n",
    "filt_withfb = m_teacher_withfb.filter_fun1(spikes_withfb)\n",
    "\n",
    "area = 1\n",
    "exc = 0\n",
    "power = 1\n",
    "torch.manual_seed(0)\n",
    "filt_nofb_light, trial_type_nofb_light, _, spikes_nofb_light = run_with_perturbation(m_teacher_nofb, trials=trials, area=area, exc=exc, power=power)\n",
    "filt_withfb_light, trial_type_withfb_light, _, spikes_withfb_light = run_with_perturbation(m_teacher_withfb, trials=trials, area=area, exc=exc, power=power)\n",
    "\n",
    "area = 1\n",
    "exc = 1\n",
    "power = 0.08\n",
    "torch.manual_seed(0)\n",
    "filt_nofb_light_act, trial_type_nofb_light_act, _, spikes_nofb_light_act = run_with_perturbation(m_teacher_nofb, trials=trials, area=area, exc=exc, power=power)\n",
    "filt_withfb_light_act, trial_type_withfb_light_act, _, spikes_withfb_light_act = run_with_perturbation(m_teacher_withfb, trials=trials, area=area, exc=exc, power=power)"
   ]
  },
  {
   "cell_type": "code",
   "execution_count": 7,
   "metadata": {},
   "outputs": [
    {
     "name": "stderr",
     "output_type": "stream",
     "text": [
      "findfont: Font family ['arial'] not found. Falling back to DejaVu Sans.\n"
     ]
    },
    {
     "data": {
      "image/png": "[encoded data removed]",
      "text/plain": [
       "<Figure size 194.63x234 with 1 Axes>"
      ]
     },
     "metadata": {},
     "output_type": "display_data"
    },
    {
     "data": {
      "image/png": "[encoded data removed]",
      "text/plain": [
       "<Figure size 194.63x234 with 1 Axes>"
      ]
     },
     "metadata": {},
     "output_type": "display_data"
    }
   ],
   "source": [
    "fig1, ax1 = plot_with_size(25, 30)\n",
    "strip_right_top_axis(ax1) \n",
    "psth_plot(filt_nofb, filt_withfb, trial_type_nofb, trial_type_withfb, area_index, ax1, area=0)\n",
    "fig1.savefig(\"FiguresOpto/Supplementary_Figure0/Figure1D_area1_control.pdf\", transparent=True)\n",
    "\n",
    "\n",
    "fig1, ax1 = plot_with_size(25, 30)\n",
    "strip_right_top_axis(ax1) \n",
    "psth_plot(filt_nofb, filt_withfb, trial_type_nofb, trial_type_withfb, area_index, ax1, area=1)\n",
    "fig1.savefig(\"FiguresOpto/Supplementary_Figure0/Figure1D_area2_control.pdf\", transparent=True)\n"
   ]
  },
  {
   "cell_type": "code",
   "execution_count": 8,
   "metadata": {},
   "outputs": [
    {
     "name": "stdout",
     "output_type": "stream",
     "text": [
      "tensor(0.7249) tensor(1.2706)\n"
     ]
    },
    {
     "data": {
      "image/png": "[encoded data removed]",
      "text/plain": [
       "<Figure size 92.2677x45.0236 with 1 Axes>"
      ]
     },
     "metadata": {},
     "output_type": "display_data"
    }
   ],
   "source": [
    "# zoom window\n",
    "time = torch.arange(0, filt_nofb.shape[0])/filt_nofb.shape[0] *(opt.stop-opt.start) + opt.start\n",
    "fig1, ax1 = plot_with_size(12, 6)\n",
    "ax1.axvline(0, color=\"gold\")\n",
    "strip_right_top_axis(ax1)    \n",
    "sig1 = filt_nofb[:, :, area_index == 0][:,trial_type_nofb==0].mean((1,2)).cpu()/dt\n",
    "sig2 = filt_nofb[:, :, area_index == 0][:,trial_type_nofb==3].mean((1,2)).cpu()/dt\n",
    "ax1.plot(time, sig1, color=\"orange\", alpha=0.7)\n",
    "ax1.plot(time, sig2, color=\"blue\", alpha=0.7)\n",
    "ax1.axvline(0, color=\"gold\")\n",
    "strip_right_top_axis(ax1)    \n",
    "sig1_with = filt_withfb[:, :, area_index == 0][:,trial_type_withfb==0].mean((1,2)).cpu()/dt\n",
    "sig2_with = filt_withfb[:, :, area_index == 0][:,trial_type_withfb==3].mean((1,2)).cpu()/dt\n",
    "ax1.plot(time, filt_withfb[:, :, area_index == 0][:,trial_type_withfb==0].mean((1,2)).cpu()/dt, color=\"red\", alpha=0.7)\n",
    "ax1.plot(time, filt_withfb[:, :, area_index == 0][:,trial_type_withfb==3].mean((1,2)).cpu()/dt, color=\"green\", alpha=0.7)\n",
    "ax1.set_ylim(3, 8)\n",
    "ax1.set_xlim(0.04, 0.06)\n",
    "fig1.savefig(\"FiguresOpto/Supplementary_Figure0/zoom.pdf\", transparent=True)\n",
    "print((sig1-sig1_with).abs().max(), (sig2-sig2_with).abs().max())"
   ]
  },
  {
   "cell_type": "code",
   "execution_count": 9,
   "metadata": {},
   "outputs": [
    {
     "data": {
      "image/png": "[encoded data removed]",
      "text/plain": [
       "<Figure size 202.504x131.638 with 1 Axes>"
      ]
     },
     "metadata": {},
     "output_type": "display_data"
    },
    {
     "data": {
      "image/png": "[encoded data removed]",
      "text/plain": [
       "<Figure size 202.504x131.638 with 1 Axes>"
      ]
     },
     "metadata": {},
     "output_type": "display_data"
    },
    {
     "data": {
      "image/png": "[encoded data removed]",
      "text/plain": [
       "<Figure size 202.504x131.638 with 1 Axes>"
      ]
     },
     "metadata": {},
     "output_type": "display_data"
    },
    {
     "data": {
      "image/png": "[encoded data removed]",
      "text/plain": [
       "<Figure size 202.504x131.638 with 1 Axes>"
      ]
     },
     "metadata": {},
     "output_type": "display_data"
    }
   ],
   "source": [
    "fig, ax = plot_with_size(26, 17)\n",
    "spike_plot(spikes_nofb, trial_type_nofb, area_index, ax, area=0, trial=0)\n",
    "fig.savefig(\"FiguresOpto/Supplementary_Figure0/Figure1B_area1.pdf\")\n",
    "\n",
    "fig, ax = plot_with_size(26, 17)\n",
    "spike_plot(spikes_nofb, trial_type_nofb, area_index, ax, area=1, trial=0)\n",
    "fig.savefig(\"FiguresOpto/Supplementary_Figure0/Figure1B_area2.pdf\")\n",
    "\n",
    "\n",
    "fig, ax = plot_with_size(26, 17)\n",
    "spike_plot(spikes_withfb, trial_type_withfb, area_index, ax, area=0, trial=13)\n",
    "fig.savefig(\"FiguresOpto/Supplementary_Figure0/Figure1C_area1.pdf\")\n",
    "\n",
    "fig, ax = plot_with_size(26, 17)\n",
    "spike_plot(spikes_withfb, trial_type_withfb, area_index, ax, area=1, trial=13)\n",
    "fig.savefig(\"FiguresOpto/Supplementary_Figure0/Figure1C_area2.pdf\")"
   ]
  },
  {
   "cell_type": "code",
   "execution_count": 10,
   "metadata": {},
   "outputs": [
    {
     "data": {
      "image/png": "[encoded data removed]",
      "text/plain": [
       "<Figure size 202.504x131.638 with 1 Axes>"
      ]
     },
     "metadata": {},
     "output_type": "display_data"
    },
    {
     "data": {
      "image/png": "[encoded data removed]",
      "text/plain": [
       "<Figure size 202.504x131.638 with 1 Axes>"
      ]
     },
     "metadata": {},
     "output_type": "display_data"
    },
    {
     "data": {
      "image/png": "[encoded data removed]",
      "text/plain": [
       "<Figure size 202.504x131.638 with 1 Axes>"
      ]
     },
     "metadata": {},
     "output_type": "display_data"
    },
    {
     "data": {
      "image/png": "[encoded data removed]",
      "text/plain": [
       "<Figure size 202.504x131.638 with 1 Axes>"
      ]
     },
     "metadata": {},
     "output_type": "display_data"
    }
   ],
   "source": [
    "fig, ax = plot_with_size(26, 17)\n",
    "spike_plot(spikes_nofb_light, trial_type_nofb_light, area_index, ax, area=0, trial=0)\n",
    "fig.savefig(\"FiguresOpto/Supplementary_Figure0/Figure1B_area1_inact.pdf\")\n",
    "\n",
    "fig, ax = plot_with_size(26, 17)\n",
    "spike_plot(spikes_nofb_light, trial_type_nofb_light, area_index, ax, area=1, trial=0)\n",
    "fig.savefig(\"FiguresOpto/Supplementary_Figure0/Figure1B_area2_inact.pdf\")\n",
    "\n",
    "\n",
    "fig, ax = plot_with_size(26, 17)\n",
    "spike_plot(spikes_withfb_light, trial_type_withfb_light, area_index, ax, area=0, trial=13)\n",
    "fig.savefig(\"FiguresOpto/Supplementary_Figure0/Figure1C_area1_inact.pdf\")\n",
    "\n",
    "fig, ax = plot_with_size(26, 17)\n",
    "spike_plot(spikes_withfb_light, trial_type_withfb_light, area_index, ax, area=1, trial=13)\n",
    "fig.savefig(\"FiguresOpto/Supplementary_Figure0/Figure1C_area2_inact.pdf\")"
   ]
  },
  {
   "cell_type": "code",
   "execution_count": 11,
   "metadata": {},
   "outputs": [
    {
     "data": {
      "image/png": "[encoded data removed]",
      "text/plain": [
       "<Figure size 202.504x131.638 with 1 Axes>"
      ]
     },
     "metadata": {},
     "output_type": "display_data"
    },
    {
     "data": {
      "image/png": "[encoded data removed]",
      "text/plain": [
       "<Figure size 202.504x131.638 with 1 Axes>"
      ]
     },
     "metadata": {},
     "output_type": "display_data"
    },
    {
     "data": {
      "image/png": "[encoded data removed]",
      "text/plain": [
       "<Figure size 202.504x131.638 with 1 Axes>"
      ]
     },
     "metadata": {},
     "output_type": "display_data"
    },
    {
     "data": {
      "image/png": "[encoded data removed]",
      "text/plain": [
       "<Figure size 202.504x131.638 with 1 Axes>"
      ]
     },
     "metadata": {},
     "output_type": "display_data"
    }
   ],
   "source": [
    "fig, ax = plot_with_size(26, 17)\n",
    "spike_plot(spikes_nofb_light_act, trial_type_nofb_light_act, area_index, ax, area=0, trial=0)\n",
    "fig.savefig(\"FiguresOpto/Supplementary_Figure0/Figure1B_area1_act.pdf\")\n",
    "\n",
    "fig, ax = plot_with_size(26, 17)\n",
    "spike_plot(spikes_nofb_light_act, trial_type_nofb_light_act, area_index, ax, area=1, trial=0)\n",
    "fig.savefig(\"FiguresOpto/Supplementary_Figure0/Figure1B_area2_act.pdf\")\n",
    "\n",
    "\n",
    "fig, ax = plot_with_size(26, 17)\n",
    "spike_plot(spikes_withfb_light_act, trial_type_withfb_light_act, area_index, ax, area=0, trial=13)\n",
    "fig.savefig(\"FiguresOpto/Supplementary_Figure0/Figure1C_area1_act.pdf\")\n",
    "\n",
    "fig, ax = plot_with_size(26, 17)\n",
    "spike_plot(spikes_withfb_light_act, trial_type_withfb_light_act, area_index, ax, area=1, trial=13)\n",
    "fig.savefig(\"FiguresOpto/Supplementary_Figure0/Figure1C_area2_act.pdf\")\n"
   ]
  },
  {
   "cell_type": "code",
   "execution_count": 12,
   "metadata": {},
   "outputs": [
    {
     "data": {
      "image/png": "[encoded data removed]",
      "text/plain": [
       "<Figure size 234x155.26 with 1 Axes>"
      ]
     },
     "metadata": {},
     "output_type": "display_data"
    }
   ],
   "source": [
    "import pandas as pd\n",
    "fig, ax = plot_with_size(30, 20)\n",
    "\n",
    "data = pd.DataFrame(columns=(\"spike_count_mean\", \"spike_count_std\", \"structure\", \"light\"))\n",
    "for light, spikes in zip([-1, 0, 1], [spikes_nofb, spikes_nofb_light, spikes_nofb_light_act]):\n",
    "    spike_count = (spikes[50:150, trial_type_nofb==3][:, :, area_index==0].cpu().numpy().sum((0,2)).mean())\n",
    "    # spike_count_std = spikes[:, trial_type_nofb==3][:, :, area_index==0].cpu().numpy().sum((0,2)).std()\n",
    "    # spike count 95% confidence interval\n",
    "    spike_count_std = 1.96 * spikes[50:150, trial_type_nofb==3][:, :, area_index==0].cpu().numpy().sum((0,2)).std() / (trials**0.5)\n",
    "    entry = {\"spike_count_mean\":spike_count, \"structure\":\"nofb\", \"light\":light, \"spike_count_std\":spike_count_std}\n",
    "    data = pd.concat([data, pd.DataFrame(entry, index=[0])], ignore_index=True)\n",
    "\n",
    "for light, spikes in zip([-1, 0, 1], [spikes_withfb, spikes_withfb_light, spikes_withfb_light_act]):\n",
    "    spike_count = spikes[50:150, trial_type_withfb==3][:, :, area_index==0].cpu().numpy().sum((0,2)).mean()\n",
    "    spike_count_std = 1.96 * spikes[50:150, trial_type_nofb==3][:, :, area_index==0].cpu().numpy().sum((0,2)).std() / (trials**0.5)\n",
    "    entry = {\"spike_count_mean\":spike_count, \"structure\":\"withfb\", \"light\":light, \"spike_count_std\":spike_count_std}\n",
    "    data = pd.concat([data, pd.DataFrame(entry, index=[0])], ignore_index=True)\n",
    "# with nofb with marker square, withfb with marker circle\n",
    "for i, row in data.iterrows():\n",
    "    ax.scatter(row[\"light\"], row[\"spike_count_mean\"], marker=\"s\" if row[\"structure\"] == \"nofb\" else \"o\", c=\"black\", s=20)\n",
    "# errorbar with sem and caps\n",
    "ax.errorbar(data[\"light\"].values, data[\"spike_count_mean\"].values, yerr=data[\"spike_count_std\"].values, fmt=\"none\", ecolor=\"black\", capsize=3)\n",
    "ax.set_xticks([-1, 0, 1])\n",
    "ax.set_xticklabels([\"Control\", \"Inactivation\", \"Activation\"])\n",
    "fig.savefig(\"FiguresOpto/Supplementary_Figure0/Figure1D.pdf\", transparent=True)\n"
   ]
  },
  {
   "cell_type": "code",
   "execution_count": 13,
   "metadata": {},
   "outputs": [
    {
     "data": {
      "image/png": "[encoded data removed]",
      "text/plain": [
       "<Figure size 194.63x234 with 1 Axes>"
      ]
     },
     "metadata": {},
     "output_type": "display_data"
    },
    {
     "data": {
      "image/png": "[encoded data removed]",
      "text/plain": [
       "<Figure size 194.63x234 with 1 Axes>"
      ]
     },
     "metadata": {},
     "output_type": "display_data"
    }
   ],
   "source": [
    "import pandas as pd\n",
    "\n",
    "fig, ax = plot_with_size(25, 30)\n",
    "strip_right_top_axis(ax) \n",
    "psth_plot(filt_nofb_light, filt_withfb_light, trial_type_nofb_light, trial_type_withfb_light, area_index, ax, area=0)\n",
    "fig.savefig(\"FiguresOpto/Supplementary_Figure0/Figure1D_area1_inact.pdf\", transparent=True)\n",
    "\n",
    "\n",
    "fig, ax = plot_with_size(25, 30)\n",
    "strip_right_top_axis(ax) \n",
    "psth_plot(filt_nofb_light, filt_withfb_light, trial_type_nofb_light, trial_type_withfb_light, area_index, ax, area=1, neurons_show=1)\n",
    "fig.savefig(\"FiguresOpto/Supplementary_Figure0/Figure1D_area2_inact.pdf\", transparent=True)"
   ]
  },
  {
   "cell_type": "code",
   "execution_count": 14,
   "metadata": {},
   "outputs": [
    {
     "data": {
      "image/png": "[encoded data removed]",
      "text/plain": [
       "<Figure size 194.63x234 with 1 Axes>"
      ]
     },
     "metadata": {},
     "output_type": "display_data"
    },
    {
     "data": {
      "image/png": "[encoded data removed]",
      "text/plain": [
       "<Figure size 194.63x234 with 1 Axes>"
      ]
     },
     "metadata": {},
     "output_type": "display_data"
    }
   ],
   "source": [
    "import pandas as pd\n",
    "\n",
    "fig, ax = plot_with_size(25, 30)\n",
    "strip_right_top_axis(ax) \n",
    "psth_plot(filt_nofb_light_act, filt_withfb_light_act, trial_type_nofb_light_act, trial_type_withfb_light_act, area_index, ax, area=0)\n",
    "fig.savefig(\"FiguresOpto/Supplementary_Figure0/Figure1D_area1_act.pdf\", transparent=True)\n",
    "\n",
    "\n",
    "fig, ax = plot_with_size(25, 30)\n",
    "strip_right_top_axis(ax) \n",
    "psth_plot(filt_nofb_light_act, filt_withfb_light_act, trial_type_nofb_light_act, trial_type_withfb_light_act, area_index, ax, area=1, neurons_show=0)\n",
    "fig.savefig(\"FiguresOpto/Supplementary_Figure0/Figure1D_area2_act.pdf\", transparent=True)"
   ]
  },
  {
   "cell_type": "code",
   "execution_count": null,
   "metadata": {},
   "outputs": [],
   "source": []
  }
 ],
 "metadata": {
  "kernelspec": {
   "display_name": "Python 3",
   "language": "python",
   "name": "python3"
  },
  "language_info": {
   "codemirror_mode": {
    "name": "ipython",
    "version": 3
   },
   "file_extension": ".py",
   "mimetype": "text/x-python",
   "name": "python",
   "nbconvert_exporter": "python",
   "pygments_lexer": "ipython3",
   "version": "3.10.6"
  }
 },
 "nbformat": 4,
 "nbformat_minor": 2
}
