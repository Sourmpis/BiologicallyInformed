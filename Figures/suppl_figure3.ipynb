{
 "cells": [
  {
   "cell_type": "code",
   "execution_count": 1,
   "metadata": {},
   "outputs": [],
   "source": [
    "from infopath.model_loader import load_model_and_optimizer\n",
    "from infopath.config import load_training_opt\n",
    "import torch \n",
    "import numpy as np\n",
    "from infopath.utils.functions import load_data, feature_pop_avg, mse_2d, session_tensor\n",
    "import scipy.sparse as sp\n",
    "from scipy.optimize import linear_sum_assignment\n",
    "import os\n",
    "from infopath.utils.plot_utils import plot_with_size, strip_right_top_axis\n",
    "import pandas as pd \n",
    "import json\n",
    "\n",
    "%reload_ext autoreload\n",
    "%autoreload 2\n",
    "font = {\"size\": 6, \"family\":\"arial\"}\n",
    "import matplotlib\n",
    "\n",
    "matplotlib.rc(\"font\", **font)\n",
    "matplotlib.rcParams[\"pdf.fonttype\"] = 42\n",
    "DEVICE = torch.device(\"cuda\" if torch.cuda.is_available() else \"cpu\")"
   ]
  },
  {
   "cell_type": "code",
   "execution_count": 2,
   "metadata": {},
   "outputs": [],
   "source": [
    "os.chdir(\"..\")"
   ]
  },
  {
   "cell_type": "code",
   "execution_count": 3,
   "metadata": {},
   "outputs": [],
   "source": [
    "def hard_trial_matching_loss(filt_data_spikes, filt_model_spikes):\n",
    "    with torch.no_grad():\n",
    "        cost = mse_2d(filt_model_spikes.T, filt_data_spikes.T)\n",
    "        keepx, ytox = linear_sum_assignment(cost.detach().cpu().numpy())\n",
    "    return ((filt_model_spikes[keepx] - filt_data_spikes[ytox])**2).mean(0)\n",
    "\n",
    "def trial_matching_loss(\n",
    "    filt_data_all,\n",
    "    filt_model_all,\n",
    "    session_info,\n",
    "    data_jaw,\n",
    "    model_jaw,\n",
    "    loss_fun,\n",
    "    area_index,\n",
    "    exc_index,\n",
    "    z_score=True,\n",
    "    trial_loss_area_specific=True,\n",
    "    trial_loss_exc_specific=False,\n",
    "):\n",
    "    loss = []\n",
    "    max_neurons = 0\n",
    "    for session in range(len(session_info[0])):\n",
    "        filt_data, filt_model, f_data_jaw, f_model_jaw, idx = session_tensor(\n",
    "            session,\n",
    "            session_info,\n",
    "            filt_data_all,\n",
    "            filt_model_all,\n",
    "            data_jaw,\n",
    "            model_jaw,\n",
    "        )\n",
    "        if filt_data.shape[2] < 10 or filt_model.shape[1] == 0:\n",
    "            continue\n",
    "        feat_data, feat_model = feature_pop_avg(\n",
    "            filt_data,\n",
    "            filt_model,\n",
    "            f_data_jaw,\n",
    "            f_model_jaw,\n",
    "            area_index[idx],\n",
    "            exc_index[idx],\n",
    "            session,\n",
    "            z_score=z_score,\n",
    "            trial_loss_area_specific=trial_loss_area_specific,\n",
    "            trial_loss_exc_specific=trial_loss_exc_specific,\n",
    "        )\n",
    "        min_trials = min(feat_model.shape[0], feat_data.shape[0])\n",
    "        feat_data = feat_data[torch.randperm(feat_data.shape[0])[:min_trials]]\n",
    "        feat_model = feat_model[torch.randperm(feat_model.shape[0])[:min_trials]]\n",
    "        if len(feat_data) == 0:\n",
    "            continue\n",
    "        # apply the proper scaling depending the method\n",
    "        loss.append(loss_fun(feat_data, feat_model))\n",
    "        max_neurons = idx.sum() if max_neurons < idx.sum() else max_neurons\n",
    "    return loss, max_neurons"
   ]
  },
  {
   "cell_type": "code",
   "execution_count": 5,
   "metadata": {},
   "outputs": [],
   "source": [
    "logs = [\n",
    "    # Full rec. model\n",
    "    \"AllModels/61789467c93582ede80ee37bcf6ac8c1aa30e22a/2024_7_17_14_54_10_l1across200_seed0\",\n",
    "    \"AllModels/61789467c93582ede80ee37bcf6ac8c1aa30e22a/2024_7_17_14_59_39_l1across200_seed1\",\n",
    "    \"AllModels/61789467c93582ede80ee37bcf6ac8c1aa30e22a/2024_7_17_14_59_37_l1across200_seed2\",\n",
    "    # no sparsity\n",
    "    \"AllModels/61789467c93582ede80ee37bcf6ac8c1aa30e22a/2024_7_14_19_49_19_l1across0_seed1\",\n",
    "    \"AllModels/61789467c93582ede80ee37bcf6ac8c1aa30e22a/2024_7_14_17_38_22_l1across0_seed0\",\n",
    "    \"AllModels/61789467c93582ede80ee37bcf6ac8c1aa30e22a/2024_7_14_19_49_19_l1across0_seed2\",\n",
    "    # no ei\n",
    "    \"AllModels/61789467c93582ede80ee37bcf6ac8c1aa30e22a/2024_7_24_15_44_47_l1across0_seed1\",\n",
    "    \"AllModels/61789467c93582ede80ee37bcf6ac8c1aa30e22a/2024_7_24_14_32_2_l1across0_seed0\",\n",
    "    \"AllModels/61789467c93582ede80ee37bcf6ac8c1aa30e22a/2024_7_24_15_17_51_l1across0_seed2\",\n",
    "    # no across inh \n",
    "    \"AllModels/61789467c93582ede80ee37bcf6ac8c1aa30e22a/2024_7_19_9_29_47_l1across0_seed1\",\n",
    "    \"AllModels/61789467c93582ede80ee37bcf6ac8c1aa30e22a/2024_7_19_8_17_45_l1across0_seed0\",\n",
    "    \"AllModels/61789467c93582ede80ee37bcf6ac8c1aa30e22a/2024_7_19_9_29_45_l1across0_seed2\",\n",
    "    # no tm \n",
    "    \"AllModels/61789467c93582ede80ee37bcf6ac8c1aa30e22a/2024_7_18_17_39_17_l1across0_seed1\",\n",
    "    \"AllModels/61789467c93582ede80ee37bcf6ac8c1aa30e22a/2024_7_18_19_28_29_l1across0_seed0\",\n",
    "    \"AllModels/61789467c93582ede80ee37bcf6ac8c1aa30e22a/2024_7_18_17_16_21_l1across0_seed2\",\n",
    "    # Full no spikes \n",
    "    \"AllModels/37383bc21e52b1a427bf2086b0659664c2fc1ccc/2024_9_23_16_7_26_l1across200_seed1\",\n",
    "    \"AllModels/37383bc21e52b1a427bf2086b0659664c2fc1ccc/2024_9_23_16_7_26_l1across200_seed0\",\n",
    "    \"AllModels/37383bc21e52b1a427bf2086b0659664c2fc1ccc/2024_9_23_16_11_7_l1across200_seed2\",\n",
    "    # Sigma RNN\n",
    "    \"AllModels/37383bc21e52b1a427bf2086b0659664c2fc1ccc/2024_10_24_17_3_25_l1across200_seed1\",\n",
    "    \"AllModels/37383bc21e52b1a427bf2086b0659664c2fc1ccc/2024_10_24_17_3_25_l1across200_seed2\",\n",
    "    \"AllModels/37383bc21e52b1a427bf2086b0659664c2fc1ccc/2024_10_24_17_3_25_l1across200_seed3\",\n",
    "]"
   ]
  },
  {
   "cell_type": "code",
   "execution_count": 6,
   "metadata": {},
   "outputs": [],
   "source": [
    "def give_name(opt):\n",
    "    if opt.loss_trial_wise == 0:\n",
    "        return \"No TM\"\n",
    "    if opt.spike_function == \"sigmoid\":\n",
    "        if opt.flag_ei:\n",
    "            return \"No spike\"\n",
    "        else:\n",
    "            return \"σRNN\"\n",
    "    if not opt.restrict_inter_area_inh:\n",
    "        return \"Non-local inhibition\"\n",
    "    if not opt.flag_ei:\n",
    "        return \"No Dale's law\"\n",
    "    if opt.l1_decay_across == 0:\n",
    "        return \"No sparsity\"\n",
    "\n",
    "    return \"bioRNN\""
   ]
  },
  {
   "cell_type": "code",
   "execution_count": 7,
   "metadata": {},
   "outputs": [],
   "source": [
    "def neuron_loss(model, spikes_nofb, spikes, mean, std):\n",
    "    psth_nofb = model.filter_fun1(spikes_nofb)\n",
    "    psth = model.filter_fun1(spikes)\n",
    "    data_meandim = psth_nofb.nanmean(1)\n",
    "    model_meandim = psth.nanmean(1)\n",
    "    model_meandim = (model_meandim - mean) / std\n",
    "    data_meandim = (data_meandim - mean) / std\n",
    "    return ((data_meandim.T - model_meandim.T)**2).mean(1).cpu()\n",
    "\n",
    "\n",
    "def model_version(log, step_size=400):\n",
    "    model_info = pd.read_table(f\"{log}/model_info.txt\", delimiter=\"      \", engine='python')\n",
    "    model_info.columns = [\"step\", \"name\"]\n",
    "    df = model_info.groupby(\"name\").max()\n",
    "    df = df.reset_index()\n",
    "    df.insert(2, \"step_id\", (df.step.values / 396).astype(\"int\"))\n",
    "    results = json.load(open(f\"{log}/results.json\", \"r\"))\n",
    "    last_step = (len(results[\"trial_type_accuracy\"])-1) * 400\n",
    "    max_trial_acc = np.max(results[\"trial_type_accuracy\"])\n",
    "    step_trial_type_and_t_trial = df[df.name.str.contains(\"best_trial_type_t_trial_ratio\")].step.values\n",
    "    if len(step_trial_type_and_t_trial) == 0:\n",
    "        model_v = \"best_trial_type\"\n",
    "        step = df[df.name==\"best_trial_type_model.ckpt\"].step.values[0]\n",
    "        return model_v, step, last_step\n",
    "    \n",
    "    actual_acc = results[\"trial_type_accuracy\"][step_trial_type_and_t_trial[0]//400]\n",
    "    if actual_acc == max_trial_acc:\n",
    "        model_v = \"best_trial_type_t_trial_ratio\"\n",
    "        step = step_trial_type_and_t_trial[0]\n",
    "    else:\n",
    "        model_v = \"best_trial_type\"\n",
    "        step = df[df.name==\"best_trial_type_model.ckpt\"].step.values[0]\n",
    "    return model_v, step, last_step"
   ]
  },
  {
   "cell_type": "code",
   "execution_count": 7,
   "metadata": {},
   "outputs": [],
   "source": [
    "# load data\n",
    "lick_classifier = torch.load(f\"datasets/QuickAccess/lick_classifie_seed0.pt\")\n",
    "lick_classifier = lick_classifier.to(\"cuda\")# load the data \n",
    "response_time = 12"
   ]
  },
  {
   "cell_type": "code",
   "execution_count": 8,
   "metadata": {},
   "outputs": [
    {
     "name": "stdout",
     "output_type": "stream",
     "text": [
      "bioRNN\n",
      "bioRNN\n",
      "bioRNN\n",
      "No sparsity\n",
      "No sparsity\n",
      "No sparsity\n",
      "No Dale's law\n",
      "No Dale's law\n",
      "No Dale's law\n",
      "Non-local inhibition\n",
      "Non-local inhibition\n",
      "Non-local inhibition\n",
      "No TM\n",
      "No TM\n",
      "No TM\n",
      "No spike\n",
      "No spike\n",
      "No spike\n",
      "σRNN\n",
      "σRNN\n",
      "σRNN\n"
     ]
    },
    {
     "name": "stderr",
     "output_type": "stream",
     "text": [
      "findfont: Font family ['arial'] not found. Falling back to DejaVu Sans.\n"
     ]
    },
    {
     "data": {
      "image/png": "[encoded data removed]",
      "text/plain": [
       "<Figure size 234x155.26 with 1 Axes>"
      ]
     },
     "metadata": {},
     "output_type": "display_data"
    },
    {
     "data": {
      "image/png": "[encoded data removed]",
      "text/plain": [
       "<Figure size 234x155.26 with 1 Axes>"
      ]
     },
     "metadata": {},
     "output_type": "display_data"
    },
    {
     "data": {
      "image/png": "[encoded data removed]",
      "text/plain": [
       "<Figure size 234x155.26 with 1 Axes>"
      ]
     },
     "metadata": {},
     "output_type": "display_data"
    },
    {
     "data": {
      "image/png": "[encoded data removed]",
      "text/plain": [
       "<Figure size 234x155.26 with 1 Axes>"
      ]
     },
     "metadata": {},
     "output_type": "display_data"
    }
   ],
   "source": [
    "trials = 400\n",
    "names = [\"bioRNN\", \"No sparsity\", \"Non-local inhibition\", \"No Dale's law\", \"No TM\", \"No spike\", \"σRNN\"]\n",
    "colors = [\"blue\", \"red\", \"green\", \"purple\", \"orange\", \"brown\", \"pink\"]\n",
    "bins = np.linspace(-1, 2, 30)\n",
    "torch.manual_seed(0)\n",
    "np.random.seed(0)\n",
    "\n",
    "N = len(names)\n",
    "hit_miss_mean, hit_miss_var = np.zeros((N)), np.zeros((N))\n",
    "tloss_mean, tloss_var = np.zeros((N)), np.zeros((N))\n",
    "nloss_mean, nloss_var = np.zeros((N)), np.zeros((N))\n",
    "\n",
    "fig_frdistro, ax_frdistro = plot_with_size(30, 20)\n",
    "ax_frdistro.set_xscale(\"log\")\n",
    "for i, log in enumerate(logs):\n",
    "    opt = load_training_opt(log)\n",
    "    version, step, last_step = model_version(opt.log_path)\n",
    "    model = load_model_and_optimizer(opt, reload=True, last_best=version)[0]\n",
    "    model.training = False\n",
    "    model.to(\"cuda\")\n",
    "    (\n",
    "        train_spikes,\n",
    "        train_jaw,\n",
    "        session_info_train,\n",
    "        test_spikes,\n",
    "        test_jaw,\n",
    "        session_info_test,\n",
    "    ) = load_data(model)\n",
    "    filt = lambda x: model.filter_fun2(model.filter_fun1(x))\n",
    "    name = give_name(model.opt)\n",
    "    print(name)\n",
    "    if name == \"No spike + reset\":\n",
    "        continue\n",
    "    torch.cuda.empty_cache()\n",
    "    with torch.no_grad():\n",
    "        model.opt.batch_size = trials\n",
    "        stims = torch.zeros(trials, device=\"cuda\")\n",
    "        stims[::2] = 1\n",
    "        state = model.steady_state()\n",
    "        model.rsnn.sample_mem_noise(model.T, trials)\n",
    "        mem_noise = model.rsnn.mem_noise.clone()\n",
    "        input_spikes = model.input_spikes(stims)\n",
    "        spikes, _, jaw, _ = model.step_with_dt(input_spikes, state, mem_noise, dt=50)        \n",
    "        filt_jaw = filt(jaw)\n",
    "        lick = lick_classifier(filt_jaw[-response_time:,:,0].T)\n",
    "        trial_type = (1-stims) * 2 + (lick[:,0]>0.5)\n",
    "        tloss, max_neurons = trial_matching_loss(\n",
    "            filt(test_spikes),\n",
    "            filt(spikes),\n",
    "            session_info_test,\n",
    "            filt(test_jaw),\n",
    "            filt(jaw),\n",
    "            hard_trial_matching_loss,\n",
    "            model.rsnn.area_index,\n",
    "            model.rsnn.excitatory_index,\n",
    "        )\n",
    "        mean = model.filter_fun1(train_spikes).nanmean(1).mean(0)\n",
    "        std = model.filter_fun1(train_spikes).nanmean(1).std(0)\n",
    "        std[std < 0.001] = 1\n",
    "        nloss = neuron_loss(model, test_spikes, spikes, mean, std)\n",
    "        fr_dist = spikes[:50].mean((0,1)) / model.timestep\n",
    "        hr = (trial_type==1)*1.\n",
    "        hr = hr[stims == 1]\n",
    "        # del model\n",
    "    j = names.index(name)\n",
    "    div = 3 if name != \"base\" else 1\n",
    "    hit_miss_mean[j] += hr.mean().item() / div\n",
    "    hit_miss_var[j] += hr.var().item()\n",
    "    tloss_mean[j] += torch.cat(tloss).mean().item() / div\n",
    "    tloss_var[j] += torch.cat(tloss).var().item()\n",
    "    nloss_mean[j] += nloss.mean().item() / div\n",
    "    nloss_var[j] += nloss.var().item() \n",
    "    x, y = np.histogram(fr_dist.cpu().numpy().flatten(), bins=10**bins)\n",
    "    ax_frdistro.plot(y[:-1], x, color=colors[j], alpha=0.2)\n",
    "fig_hit, ax_hit = plot_with_size(30, 20)\n",
    "for i in range(len(names)):\n",
    "    ax_hit.errorbar(i, hit_miss_mean[i], yerr=1.96*np.sqrt(np.array(hit_miss_var)[i]/trials), fmt=\"o\", capsize=3, color=colors[i])\n",
    "ax_hit.set_xticks(range(len(names)))\n",
    "# ax_hit.set_ylim(0.4, 0.8)\n",
    "fig_hit.savefig(f\"FiguresOpto/Supplementary_Figure3/hit.pdf\", dpi=300, bbox_inches=\"tight\", transparent=True)\n",
    "\n",
    "fig_psth, ax_psth = plot_with_size(30, 20)\n",
    "for i in range(len(names)):\n",
    "    ax_psth.errorbar(i, nloss_mean[i], yerr=1.96*np.sqrt(np.array(nloss_var)[i]/max_neurons), fmt=\"o\", capsize=3, color=colors[i])\n",
    "ax_psth.set_xticks(range(len(names)))\n",
    "fig_psth.savefig(f\"FiguresOpto/Supplementary_Figure3/psth.pdf\", dpi=300, bbox_inches=\"tight\", transparent=True)\n",
    "\n",
    "fig_ttrial, ax_ttrial = plot_with_size(30, 20)\n",
    "for i in range(len(names)):\n",
    "    ax_ttrial.errorbar(i, tloss_mean[i], yerr=1.96*np.sqrt(np.array(tloss_var)[i]/trials), fmt=\"o\", capsize=3, color=colors[i])\n",
    "ax_ttrial.set_xticks(range(len(names)))\n",
    "fig_ttrial.savefig(f\"FiguresOpto/Supplementary_Figure3/ttrial.pdf\", dpi=300, bbox_inches=\"tight\", transparent=True)\n",
    "fig_frdistro.savefig(f\"FiguresOpto/Supplementary_Figure3/frdistro.pdf\", dpi=300, bbox_inches=\"tight\", transparent=True)\n",
    "\n",
    "nloss_mean, nloss_std = nloss_mean, 1.96*np.sqrt(np.array(nloss_var)/trials)\n",
    "tloss_mean, tloss_std = tloss_mean, 1.96*np.sqrt(np.array(tloss_var)/max_neurons)\n"
   ]
  },
  {
   "cell_type": "code",
   "execution_count": 9,
   "metadata": {},
   "outputs": [
    {
     "name": "stdout",
     "output_type": "stream",
     "text": [
      "bioRNN & 0.76 $\\pm$ 0.14 \\\\\n",
      "No sparsity & 0.77 $\\pm$ 0.15 \\\\\n",
      "Non-local inhibition & 0.79 $\\pm$ 0.15 \\\\\n",
      "No Dale's law & 0.68 $\\pm$ 0.13 \\\\\n",
      "No TM & 1.63 $\\pm$ 0.55 \\\\\n",
      "No spike & 0.64 $\\pm$ 0.13 \\\\\n",
      "σRNN & 0.62 $\\pm$ 0.12 \\\\\n"
     ]
    }
   ],
   "source": [
    "# prepare code for latex table, where first column is the name of the method, second the mean plus minus sem of the pearson correlation of the psth nofb, and third the mean plus minus sem of the pearson correlation of the psth withfb\n",
    "names = [\"bioRNN\", \"No sparsity\", \"Non-local inhibition\", \"No Dale's law\", \"No TM\", \"No spike\", \"σRNN\"]\n",
    "def latex_table(table_psth_pear_mean, table_psth_pear_std):\n",
    "    for i in range(len(table_psth_pear_mean)):\n",
    "        print(f\"{names[i]} & {table_psth_pear_mean[i]:.2f} $\\pm$ {table_psth_pear_std[i]:.2f} \\\\\\\\\")\n",
    "\n",
    "latex_table(tloss_mean, tloss_std)"
   ]
  },
  {
   "cell_type": "code",
   "execution_count": null,
   "metadata": {},
   "outputs": [],
   "source": []
  },
  {
   "cell_type": "code",
   "execution_count": null,
   "metadata": {},
   "outputs": [],
   "source": []
  },
  {
   "cell_type": "code",
   "execution_count": null,
   "metadata": {},
   "outputs": [],
   "source": []
  }
 ],
 "metadata": {
  "kernelspec": {
   "display_name": "Python 3",
   "language": "python",
   "name": "python3"
  },
  "language_info": {
   "codemirror_mode": {
    "name": "ipython",
    "version": 3
   },
   "file_extension": ".py",
   "mimetype": "text/x-python",
   "name": "python",
   "nbconvert_exporter": "python",
   "pygments_lexer": "ipython3",
   "version": "3.10.6"
  }
 },
 "nbformat": 4,
 "nbformat_minor": 2
}
